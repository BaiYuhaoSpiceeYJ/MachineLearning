{
 "cells": [
  {
   "cell_type": "code",
   "execution_count": 4,
   "metadata": {},
   "outputs": [
    {
     "name": "stdout",
     "output_type": "stream",
     "text": [
      "0.28571428571428575\n"
     ]
    }
   ],
   "source": [
    "import numpy as np\n",
    "\n",
    "def f1_score(precision , recall):\n",
    "    try:\n",
    "        return 2 * precision * recall / (precision + recall)\n",
    "    except:\n",
    "        return 0.0\n",
    "\n",
    "precision = 0.5\n",
    "recall = 0.2\n",
    "print(f1_score(precision,recall))"
   ]
  },
  {
   "cell_type": "code",
   "execution_count": 11,
   "metadata": {},
   "outputs": [
    {
     "name": "stdout",
     "output_type": "stream",
     "text": [
      "0.9755555555555555\n",
      "[[403   2]\n",
      " [  9  36]]\n",
      "precision_score= 0.9473684210526315\n",
      "recall_score= 0.8\n",
      "f1_score= 0.8674698795180723\n"
     ]
    }
   ],
   "source": [
    "import numpy as np\n",
    "from sklearn import datasets\n",
    "\n",
    "digits = datasets.load_digits()\n",
    "X = digits.data\n",
    "y = digits.target.copy()\n",
    "\n",
    "y[digits.target==9] = 1\n",
    "y[digits.target!=9] = 0\n",
    "\n",
    "from sklearn.model_selection import train_test_split\n",
    "X_train, X_test, y_train, y_test = train_test_split(X, y, random_state=666)\n",
    "\n",
    "from sklearn.linear_model import LogisticRegression\n",
    "log_reg = LogisticRegression()\n",
    "log_reg.fit(X_train, y_train)\n",
    "print(log_reg.score(X_test, y_test))#准确率\n",
    "\n",
    "y_log_predict = log_reg.predict(X_test)\n",
    "\n",
    "def TN(y_true, y_predict):\n",
    "    assert len(y_true) == len(y_predict)\n",
    "    return np.sum((y_true == 0) & (y_predict == 0))\n",
    "\n",
    "def FP(y_true, y_predict):\n",
    "    assert len(y_true) == len(y_predict)\n",
    "    return np.sum((y_true == 0) & (y_predict == 1))\n",
    "\n",
    "def FN(y_true, y_predict):\n",
    "    assert len(y_true) == len(y_predict)\n",
    "    return np.sum((y_true == 1) & (y_predict == 0))\n",
    "\n",
    "def TP(y_true, y_predict):\n",
    "    assert len(y_true) == len(y_predict)\n",
    "    return np.sum((y_true == 1) & (y_predict == 1))\n",
    "\n",
    "tn=TN(y_test,y_log_predict)\n",
    "fp=FP(y_test,y_log_predict)\n",
    "fn=FN(y_test,y_log_predict)\n",
    "tp=TP(y_test,y_log_predict)\n",
    "\n",
    "#混淆矩阵\n",
    "def confusion_matrix(y_true, y_predict):\n",
    "    return np.array([\n",
    "        [TN(y_true, y_predict), FP(y_true, y_predict)],\n",
    "        [FN(y_true, y_predict), TP(y_true, y_predict)]])\n",
    "\n",
    "confusionMatrix = confusion_matrix(y_test, y_log_predict)\n",
    "print(confusionMatrix)\n",
    "\n",
    "#精准率\n",
    "def precision_score(y_true, y_predict):\n",
    "    tp = TP(y_true, y_predict)\n",
    "    fp = FP(y_true, y_predict)\n",
    "    try:\n",
    "        return tp / (tp + fp)\n",
    "    except:\n",
    "        return 0.0\n",
    "\n",
    "precision_score = precision_score(y_test, y_log_predict)\n",
    "print(\"precision_score=\",precision_score)\n",
    "\n",
    "#召回率\n",
    "def recall_score(y_true, y_predict):\n",
    "    tp = TP(y_true, y_predict)\n",
    "    fn = FN(y_true, y_predict)\n",
    "    try:\n",
    "        return tp / (tp + fn)\n",
    "    except:\n",
    "        return 0.0\n",
    "    \n",
    "def f1_score(precision , recall):\n",
    "    try:\n",
    "        return 2 * precision * recall / (precision + recall)\n",
    "    except:\n",
    "        return 0.0\n",
    "\n",
    "recall_score = recall_score(y_test, y_log_predict)\n",
    "print(\"recall_score=\",recall_score)\n",
    "\n",
    "f1_score = f1_score(precision_score,recall_score)\n",
    "print(\"f1_score=\",f1_score)"
   ]
  },
  {
   "cell_type": "code",
   "execution_count": 10,
   "metadata": {},
   "outputs": [
    {
     "name": "stdout",
     "output_type": "stream",
     "text": [
      "[[403   2]\n",
      " [  9  36]]\n",
      "0.9473684210526315\n",
      "0.8\n",
      "0.8674698795180723\n"
     ]
    }
   ],
   "source": [
    "from sklearn.metrics import confusion_matrix\n",
    "print(confusion_matrix(y_test, y_log_predict))\n",
    "\n",
    "from sklearn.metrics import precision_score\n",
    "print(precision_score(y_test, y_log_predict))\n",
    "\n",
    "from sklearn.metrics import recall_score\n",
    "print(recall_score(y_test, y_log_predict))\n",
    "\n",
    "from sklearn.metrics import f1_score\n",
    "print(f1_score(y_test,y_log_predict))"
   ]
  },
  {
   "cell_type": "code",
   "execution_count": null,
   "metadata": {},
   "outputs": [],
   "source": []
  },
  {
   "cell_type": "code",
   "execution_count": null,
   "metadata": {},
   "outputs": [],
   "source": []
  }
 ],
 "metadata": {
  "kernelspec": {
   "display_name": "Python 3",
   "language": "python",
   "name": "python3"
  },
  "language_info": {
   "codemirror_mode": {
    "name": "ipython",
    "version": 3
   },
   "file_extension": ".py",
   "mimetype": "text/x-python",
   "name": "python",
   "nbconvert_exporter": "python",
   "pygments_lexer": "ipython3",
   "version": "3.6.5"
  }
 },
 "nbformat": 4,
 "nbformat_minor": 2
}
