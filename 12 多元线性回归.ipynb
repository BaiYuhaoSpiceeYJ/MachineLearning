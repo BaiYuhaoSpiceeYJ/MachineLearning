{
 "cells": [
  {
   "cell_type": "code",
   "execution_count": 1,
   "metadata": {},
   "outputs": [
    {
     "name": "stdout",
     "output_type": "stream",
     "text": [
      "[-1.14235739e-01  3.12783163e-02 -4.30926281e-02 -9.16425531e-02\n",
      " -1.09940036e+01  3.49155727e+00 -1.40778005e-02 -1.06270960e+00\n",
      "  2.45307516e-01 -1.23179738e-02 -8.80618320e-01  8.43243544e-03\n",
      " -3.99667727e-01]\n",
      "32.645660839640875\n"
     ]
    },
    {
     "data": {
      "text/plain": [
       "0.8008916199519345"
      ]
     },
     "execution_count": 1,
     "metadata": {},
     "output_type": "execute_result"
    }
   ],
   "source": [
    "import numpy as np\n",
    "import matplotlib.pyplot as plt\n",
    "from sklearn import datasets\n",
    "boston = datasets.load_boston()#房价数据集,506个对象，每个有13个特征\n",
    "x = boston.data#只使用全部特征\n",
    "y = boston.target#房价\n",
    "x = x[y<50.]\n",
    "y = y[y<50.]\n",
    "\n",
    "from sklearn.model_selection import train_test_split\n",
    "x_train,x_test,y_train,y_test = train_test_split(x,y,random_state=666)\n",
    "\n",
    "import sys#引用不在一个文件夹中的.py文件\n",
    "sys.path.append(r'C:\\Users\\TH\\Desktop\\ML\\Pycharm\\SimpleLinearRegression')\n",
    "from LinearRegression import LinearRegression\n",
    "reg = LinearRegression()\n",
    "reg.fit_normal(x_train,y_train)\n",
    "\n",
    "print(reg.coef_)\n",
    "print(reg.interception_)\n",
    "reg.score(x_test,y_test)"
   ]
  },
  {
   "cell_type": "code",
   "execution_count": null,
   "metadata": {},
   "outputs": [],
   "source": []
  },
  {
   "cell_type": "code",
   "execution_count": null,
   "metadata": {},
   "outputs": [],
   "source": []
  }
 ],
 "metadata": {
  "kernelspec": {
   "display_name": "Python 3",
   "language": "python",
   "name": "python3"
  },
  "language_info": {
   "codemirror_mode": {
    "name": "ipython",
    "version": 3
   },
   "file_extension": ".py",
   "mimetype": "text/x-python",
   "name": "python",
   "nbconvert_exporter": "python",
   "pygments_lexer": "ipython3",
   "version": "3.6.5"
  }
 },
 "nbformat": 4,
 "nbformat_minor": 2
}
