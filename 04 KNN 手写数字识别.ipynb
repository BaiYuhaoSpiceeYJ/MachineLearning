{
 "cells": [
  {
   "cell_type": "code",
   "execution_count": 2,
   "metadata": {},
   "outputs": [
    {
     "name": "stdout",
     "output_type": "stream",
     "text": [
      "dict_keys(['data', 'target', 'target_names', 'images', 'DESCR'])\n"
     ]
    },
    {
     "data": {
      "image/png": "[encoded data removed]",
      "text/plain": [
       "<Figure size 432x288 with 1 Axes>"
      ]
     },
     "metadata": {},
     "output_type": "display_data"
    },
    {
     "name": "stdout",
     "output_type": "stream",
     "text": [
      "0.9805013927576601\n",
      "0.9805013927576601\n",
      "0.9805013927576601\n",
      "[[ 0  0  0  0  0  0  0  0  0  7 10 10 10  2  0  0  0 12  2  1  6 11  0  0\n",
      "   0 11  4  0  6 10  0  0  0  2  4 12 12  1  0  0  0  3 14  6  0  0  0  0\n",
      "   0  3 11  9 10 10  4  0  0  0  0  0  0  0  0  0]]\n",
      "[2]\n"
     ]
    }
   ],
   "source": [
    "import numpy as np\n",
    "import matplotlib as mpl\n",
    "import matplotlib.pyplot as plt\n",
    "import cv2\n",
    "from sklearn import datasets\n",
    "\n",
    "import sys#引用不在一个文件夹中的.py文件\n",
    "sys.path.append(r'.\\Pycharm\\KNN_function')\n",
    "from selection_data import train_test_split\n",
    "from KNN2 import KNNClassifier\n",
    "from accuracy import accuracy_score\n",
    "\n",
    "digits = datasets.load_digits()\n",
    "print(digits.keys())\n",
    "x = digits.data#8*8的手写数字的颜色深度，共1797个数据，64维\n",
    "y = digits.target#0到9的标签\n",
    "some_digit = x[666]\n",
    "y[666]\n",
    "\n",
    "#可视化\n",
    "some_digit_image = some_digit.reshape(8,8)\n",
    "plt.imshow(some_digit_image,cmap = mpl.cm.binary)\n",
    "plt.show()\n",
    "\n",
    "#%run C:\\Users\\TH\\Desktop\\ML\\Pycharm\\KNN_function\\selection_data\n",
    "x_train,x_test,y_train,y_test = train_test_split(x,y)\n",
    "#%run C:\\Users\\TH\\Desktop\\ML\\Pycharm\\KNN_function\\KNN2\n",
    "my_knn_clf = KNNClassifier(k=10)\n",
    "my_knn_clf.fit(x_train,y_train)\n",
    "y_predict = my_knn_clf.predict(x_test)\n",
    "print(sum(y_predict == y_test)/len(y_test))#准确度方法1：直接算\n",
    "per = accuracy_score(y_test,y_predict)#准确度方法2：调用\n",
    "print(per)\n",
    "per = my_knn_clf.score(x_test,y_test)#准确度方法3：调用\n",
    "print(per)\n",
    "\n",
    "img = cv2.imread('0.jpg',0)\n",
    "img2 = np.array([(256-i)/8 for i in img],dtype = np.uint8)\n",
    "img2 = img2.reshape(1,64)\n",
    "print(img2)\n",
    "y_predict = my_knn_clf.predict(img2)\n",
    "print(y_predict)"
   ]
  },
  {
   "cell_type": "code",
   "execution_count": 4,
   "metadata": {},
   "outputs": [
    {
     "data": {
      "text/plain": [
       "0.9805555555555555"
      ]
     },
     "execution_count": 4,
     "metadata": {},
     "output_type": "execute_result"
    }
   ],
   "source": [
    "#scikit-learn中的accuracy_score\n",
    "from sklearn.model_selection import train_test_split\n",
    "from sklearn.neighbors import KNeighborsClassifier\n",
    "from sklearn.metrics import accuracy_score\n",
    "\n",
    "x_train,x_test,y_train,y_test = train_test_split(x,y,test_size=0.2,random_state=4)\n",
    "knn_clf = KNeighborsClassifier(n_neighbors=6)\n",
    "knn_clf.fit(x_train,y_train)\n",
    "y_predict = knn_clf.predict(x_test)\n",
    "accuracy_score(y_test,y_predict)"
   ]
  },
  {
   "cell_type": "code",
   "execution_count": null,
   "metadata": {},
   "outputs": [],
   "source": []
  },
  {
   "cell_type": "code",
   "execution_count": null,
   "metadata": {},
   "outputs": [],
   "source": []
  }
 ],
 "metadata": {
  "kernelspec": {
   "display_name": "Python 3",
   "language": "python",
   "name": "python3"
  },
  "language_info": {
   "codemirror_mode": {
    "name": "ipython",
    "version": 3
   },
   "file_extension": ".py",
   "mimetype": "text/x-python",
   "name": "python",
   "nbconvert_exporter": "python",
   "pygments_lexer": "ipython3",
   "version": "3.6.5"
  }
 },
 "nbformat": 4,
 "nbformat_minor": 2
}
