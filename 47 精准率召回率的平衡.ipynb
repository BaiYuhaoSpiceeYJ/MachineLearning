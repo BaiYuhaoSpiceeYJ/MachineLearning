{
 "cells": [
  {
   "cell_type": "code",
   "execution_count": 19,
   "metadata": {},
   "outputs": [
    {
     "name": "stdout",
     "output_type": "stream",
     "text": [
      "0.9755555555555555\n",
      "[[405   0]\n",
      " [ 32  13]]\n",
      "precision_score = 1.0\n",
      "recall_score = 0.28888888888888886\n",
      "f1_score = 0.4482758620689655\n"
     ]
    }
   ],
   "source": [
    "import numpy as np\n",
    "from sklearn import datasets\n",
    "\n",
    "digits = datasets.load_digits()\n",
    "X = digits.data\n",
    "y = digits.target.copy()\n",
    "\n",
    "y[digits.target==9] = 1\n",
    "y[digits.target!=9] = 0\n",
    "\n",
    "from sklearn.model_selection import train_test_split\n",
    "X_train, X_test, y_train, y_test = train_test_split(X, y, random_state=666)\n",
    "\n",
    "from sklearn.linear_model import LogisticRegression\n",
    "log_reg = LogisticRegression()\n",
    "log_reg.fit(X_train, y_train)\n",
    "print(log_reg.score(X_test, y_test))#准确率\n",
    "\n",
    "y_log_predict = log_reg.predict(X_test)#默认是阈值为0\n",
    "#print(log_reg.decision_function(X_test))#输出每个数据对应的theta * X_b的值\n",
    "decision_scores = log_reg.decision_function(X_test)\n",
    "#print(np.min(decision_scores))\n",
    "#print(np.max(decision_scores))\n",
    "y_log_predict_2 = np.array(decision_scores >= 10,dtype ='int')\n",
    "\n",
    "\n",
    "from sklearn.metrics import confusion_matrix\n",
    "print(confusion_matrix(y_test, y_log_predict_2))\n",
    "\n",
    "from sklearn.metrics import precision_score\n",
    "print(\"precision_score =\",precision_score(y_test, y_log_predict_2))\n",
    "\n",
    "from sklearn.metrics import recall_score\n",
    "print(\"recall_score =\",recall_score(y_test, y_log_predict_2))\n",
    "\n",
    "from sklearn.metrics import f1_score\n",
    "print(\"f1_score =\",f1_score(y_test,y_log_predict_2))"
   ]
  },
  {
   "cell_type": "code",
   "execution_count": null,
   "metadata": {},
   "outputs": [],
   "source": []
  }
 ],
 "metadata": {
  "kernelspec": {
   "display_name": "Python 3",
   "language": "python",
   "name": "python3"
  },
  "language_info": {
   "codemirror_mode": {
    "name": "ipython",
    "version": 3
   },
   "file_extension": ".py",
   "mimetype": "text/x-python",
   "name": "python",
   "nbconvert_exporter": "python",
   "pygments_lexer": "ipython3",
   "version": "3.6.5"
  }
 },
 "nbformat": 4,
 "nbformat_minor": 2
}
