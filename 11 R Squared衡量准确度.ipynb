{
 "cells": [
  {
   "cell_type": "code",
   "execution_count": 1,
   "metadata": {},
   "outputs": [
    {
     "name": "stdout",
     "output_type": "stream",
     "text": [
      "y= 7.886149712331407 x+ -27.44954161243852\n"
     ]
    },
    {
     "data": {
      "text/plain": [
       "<Figure size 640x480 with 1 Axes>"
      ]
     },
     "metadata": {},
     "output_type": "display_data"
    },
    {
     "name": "stdout",
     "output_type": "stream",
     "text": [
      "MSE= 4.3001041621264005\n",
      "MAE= 34.85197671316389\n",
      "r2= 0.5139558961464321\n"
     ]
    }
   ],
   "source": [
    "import numpy as np\n",
    "import matplotlib.pyplot as plt\n",
    "from sklearn import datasets\n",
    "\n",
    "boston = datasets.load_boston()#房价数据集,506个对象，每个有13个特征\n",
    "#print(boston.DESCR)\n",
    "#boston.feature_names\n",
    "x = boston.data[:,5]#只使用房间数量这个特征\n",
    "y = boston.target#房价\n",
    "#plt.scatter(x,y)\n",
    "#plt.show()\n",
    "\n",
    "#房价大于等于50万一律用50万，可能在调查问卷时选项问题，要删除这些点\n",
    "x = x[y<50.]\n",
    "y = y[y<50.]\n",
    "plt.scatter(x,y)\n",
    "\n",
    "#数据分类\n",
    "from sklearn.model_selection import train_test_split\n",
    "x_train,x_test,y_train,y_test = train_test_split(x,y,random_state=100)\n",
    "\n",
    "#计算线性回归值\n",
    "import sys#引用不在一个文件夹中的.py文件\n",
    "sys.path.append(r'C:\\Users\\TH\\Desktop\\ML\\Pycharm\\SimpleLinearRegression')\n",
    "from SimpleLinearRegression2 import SimpleLinearRegression_2\n",
    "from metrics import r2_score\n",
    "reg = SimpleLinearRegression_2()\n",
    "reg.fit(x_train,y_train)\n",
    "print('y=',reg.a_,'x+',reg.b_)\n",
    "y_predict = reg.predict(x_test)\n",
    "\n",
    "#输出结果并预测\n",
    "plt.plot(x_train,reg.predict(x_train),color='r')\n",
    "plt.show()\n",
    "\n",
    "#scikit_learn中的MSE MAE\n",
    "from sklearn.metrics import mean_squared_error\n",
    "from sklearn.metrics import mean_absolute_error#无RMSE，需手动开根\n",
    "\n",
    "MAE = mean_absolute_error(y_test,y_predict)\n",
    "MSE = mean_squared_error(y_test,y_predict)\n",
    "print(\"MSE=\",MAE)\n",
    "print(\"MAE=\",MSE)\n",
    "\n",
    "#计算r required\n",
    "r2 = 1-mean_squared_error(y_test,y_predict)/np.var(y_test)\n",
    "print(\"r2=\",r2)\n",
    "\n"
   ]
  },
  {
   "cell_type": "code",
   "execution_count": 3,
   "metadata": {},
   "outputs": [
    {
     "name": "stdout",
     "output_type": "stream",
     "text": [
      "0.5139558961464321\n",
      "0.5139558961464321\n"
     ]
    }
   ],
   "source": [
    "#调用.py\n",
    "r2_2 = r2_score(y_test,y_predict)\n",
    "print(r2_2)\n",
    "\n",
    "r2_4 = reg.score(x_test,y_test)\n",
    "print(r2_4)"
   ]
  },
  {
   "cell_type": "code",
   "execution_count": 4,
   "metadata": {},
   "outputs": [
    {
     "name": "stdout",
     "output_type": "stream",
     "text": [
      "0.5139558961464321\n"
     ]
    }
   ],
   "source": [
    "#调用scikit_learn\n",
    "from sklearn.metrics import r2_score\n",
    "r2_3 = r2_score(y_test,y_predict)\n",
    "print(r2_3)"
   ]
  },
  {
   "cell_type": "code",
   "execution_count": null,
   "metadata": {},
   "outputs": [],
   "source": []
  }
 ],
 "metadata": {
  "kernelspec": {
   "display_name": "Python 3",
   "language": "python",
   "name": "python3"
  },
  "language_info": {
   "codemirror_mode": {
    "name": "ipython",
    "version": 3
   },
   "file_extension": ".py",
   "mimetype": "text/x-python",
   "name": "python",
   "nbconvert_exporter": "python",
   "pygments_lexer": "ipython3",
   "version": "3.6.5"
  }
 },
 "nbformat": 4,
 "nbformat_minor": 2
}
