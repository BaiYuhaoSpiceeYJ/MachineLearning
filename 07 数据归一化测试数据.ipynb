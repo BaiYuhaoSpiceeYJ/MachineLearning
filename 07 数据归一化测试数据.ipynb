{
 "cells": [
  {
   "cell_type": "code",
   "execution_count": 17,
   "metadata": {},
   "outputs": [
    {
     "name": "stdout",
     "output_type": "stream",
     "text": [
      "dict_keys(['data', 'target', 'target_names', 'DESCR', 'feature_names'])\n",
      "(150, 4)\n"
     ]
    },
    {
     "data": {
      "image/png": "[encoded data removed]",
      "text/plain": [
       "<Figure size 432x288 with 1 Axes>"
      ]
     },
     "metadata": {},
     "output_type": "display_data"
    },
    {
     "name": "stdout",
     "output_type": "stream",
     "text": [
      "[5.78916667 3.04583333 3.72916667 1.18666667]\n",
      "[0.79987456 0.43106377 1.71500223 0.74396834]\n"
     ]
    },
    {
     "data": {
      "text/plain": [
       "1.0"
      ]
     },
     "execution_count": 17,
     "metadata": {},
     "output_type": "execute_result"
    }
   ],
   "source": [
    "import matplotlib as mpl\n",
    "import matplotlib.pyplot as plt\n",
    "import numpy as np\n",
    "from sklearn import datasets\n",
    "from sklearn.model_selection import train_test_split\n",
    "from sklearn.neighbors import KNeighborsClassifier\n",
    "from sklearn.metrics import accuracy_score\n",
    "\n",
    "iris = datasets.load_iris()\n",
    "print(iris.keys())\n",
    "print(iris.data.shape)\n",
    "x = iris.data\n",
    "y = iris.target\n",
    "plt.scatter(x[y==0,3],x[y==0,1],color='r')#facy indexing\n",
    "plt.scatter(x[y==1,3],x[y==1,1],color='g')\n",
    "plt.scatter(x[y==2,3],x[y==2,1],color='b')\n",
    "plt.show()\n",
    "\n",
    "x_train,x_test,y_train,y_test = train_test_split(x,y,test_size=0.2,random_state=100)\n",
    "\n",
    "from sklearn.preprocessing import StandardScaler #preprocessing预处理\n",
    "standardScaler = StandardScaler()\n",
    "standardScaler.fit(x_train)\n",
    "print(standardScaler.mean_)#均值\n",
    "print(standardScaler.scale_)#方差\n",
    "x_train = standardScaler.transform(x_train)#对训练集归一化\n",
    "x_test_standard = standardScaler.transform(x_test)#对测试集归一化\n",
    "\n",
    "knn_clf = KNeighborsClassifier(n_neighbors=3)\n",
    "knn_clf.fit(x_train,y_train)\n",
    "y_predict = knn_clf.predict(x_test_standard)\n",
    "knn_clf.score(x_test_standard,y_test)"
   ]
  },
  {
   "cell_type": "code",
   "execution_count": null,
   "metadata": {},
   "outputs": [],
   "source": []
  }
 ],
 "metadata": {
  "kernelspec": {
   "display_name": "Python 3",
   "language": "python",
   "name": "python3"
  },
  "language_info": {
   "codemirror_mode": {
    "name": "ipython",
    "version": 3
   },
   "file_extension": ".py",
   "mimetype": "text/x-python",
   "name": "python",
   "nbconvert_exporter": "python",
   "pygments_lexer": "ipython3",
   "version": "3.6.5"
  }
 },
 "nbformat": 4,
 "nbformat_minor": 2
}
