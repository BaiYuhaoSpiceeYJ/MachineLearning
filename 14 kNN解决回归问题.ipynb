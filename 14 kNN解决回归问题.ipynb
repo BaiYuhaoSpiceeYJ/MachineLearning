{
 "cells": [
  {
   "cell_type": "code",
   "execution_count": 8,
   "metadata": {},
   "outputs": [
    {
     "name": "stdout",
     "output_type": "stream",
     "text": [
      "Fitting 3 folds for each of 60 candidates, totalling 180 fits\n"
     ]
    },
    {
     "name": "stderr",
     "output_type": "stream",
     "text": [
      "[Parallel(n_jobs=8)]: Done  25 tasks      | elapsed:    2.1s\n",
      "[Parallel(n_jobs=8)]: Done  74 out of 180 | elapsed:    2.2s remaining:    3.2s\n"
     ]
    },
    {
     "name": "stdout",
     "output_type": "stream",
     "text": [
      "{'n_neighbors': 6, 'p': 1, 'weights': 'distance'}\n",
      "0.6060327991735741\n",
      "0.7354244906092771\n"
     ]
    },
    {
     "name": "stderr",
     "output_type": "stream",
     "text": [
      "[Parallel(n_jobs=8)]: Done 180 out of 180 | elapsed:    2.6s finished\n"
     ]
    }
   ],
   "source": [
    "from sklearn import datasets\n",
    "boston = datasets.load_boston()#房价数据集,506个对象，每个有13个特征\n",
    "x = boston.data#只使用全部特征\n",
    "y = boston.target#房价\n",
    "x = x[y<50.]\n",
    "y = y[y<50.]\n",
    "\n",
    "from sklearn.model_selection import train_test_split\n",
    "x_train,x_test,y_train,y_test = train_test_split(x,y,random_state=666)\n",
    "\n",
    "#用knn的回归方法解决问题\n",
    "from sklearn.neighbors import KNeighborsRegressor\n",
    "knn_reg = KNeighborsRegressor()#默认k==5\n",
    "knn_reg.fit(x_train,y_train)\n",
    "knn_reg.score(x_test,y_test)\n",
    "\n",
    "#使用网格搜索寻找超参数\n",
    "from sklearn.model_selection import GridSearchCV\n",
    "param_grid =[\n",
    "    #数组，每个元素为一个字典：要进行的每一组网格搜索，写上需要遍历的搜索的参数对应的取值范围\n",
    "    #对于字典:键对应参数名称，值为列表，对应所有可能的参数的范围\n",
    "    {\n",
    "        'weights':['uniform'],\n",
    "        'n_neighbors':[i for i in range(1,11)],\n",
    "    },\n",
    "    \n",
    "    {\n",
    "        'weights':['distance'],\n",
    "        'n_neighbors':[i for i in range(1,11)],\n",
    "        'p':[i for i in range(1,6)]\n",
    "    }\n",
    "]\n",
    "\n",
    "knn_reg2 = KNeighborsRegressor()\n",
    "grid_search = GridSearchCV(knn_reg2,param_grid,n_jobs=8,verbose=2)\n",
    "grid_search.fit(x_train,y_train)\n",
    "print(grid_search.best_params_)\n",
    "print(grid_search.best_score_)\n",
    "print(grid_search.best_estimator_.score(x_test,y_test))\n",
    "\n",
    "\n",
    "\n",
    "\n"
   ]
  },
  {
   "cell_type": "code",
   "execution_count": null,
   "metadata": {},
   "outputs": [],
   "source": []
  }
 ],
 "metadata": {
  "kernelspec": {
   "display_name": "Python 3",
   "language": "python",
   "name": "python3"
  },
  "language_info": {
   "codemirror_mode": {
    "name": "ipython",
    "version": 3
   },
   "file_extension": ".py",
   "mimetype": "text/x-python",
   "name": "python",
   "nbconvert_exporter": "python",
   "pygments_lexer": "ipython3",
   "version": "3.6.5"
  }
 },
 "nbformat": 4,
 "nbformat_minor": 2
}
