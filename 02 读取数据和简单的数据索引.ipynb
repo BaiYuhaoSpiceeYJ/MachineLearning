{
 "cells": [
  {
   "cell_type": "code",
   "execution_count": 6,
   "metadata": {},
   "outputs": [
    {
     "name": "stdout",
     "output_type": "stream",
     "text": [
      "dict_keys(['data', 'target', 'target_names', 'DESCR', 'feature_names'])\n",
      "(150, 4)\n",
      "['sepal length (cm)', 'sepal width (cm)', 'petal length (cm)', 'petal width (cm)']\n",
      "[0 0 0 0 0 0 0 0 0 0 0 0 0 0 0 0 0 0 0 0 0 0 0 0 0 0 0 0 0 0 0 0 0 0 0 0 0\n",
      " 0 0 0 0 0 0 0 0 0 0 0 0 0 1 1 1 1 1 1 1 1 1 1 1 1 1 1 1 1 1 1 1 1 1 1 1 1\n",
      " 1 1 1 1 1 1 1 1 1 1 1 1 1 1 1 1 1 1 1 1 1 1 1 1 1 1 2 2 2 2 2 2 2 2 2 2 2\n",
      " 2 2 2 2 2 2 2 2 2 2 2 2 2 2 2 2 2 2 2 2 2 2 2 2 2 2 2 2 2 2 2 2 2 2 2 2 2\n",
      " 2 2]\n",
      "['setosa' 'versicolor' 'virginica']\n"
     ]
    },
    {
     "data": {
      "image/png": "[encoded data removed]",
      "text/plain": [
       "<Figure size 432x288 with 1 Axes>"
      ]
     },
     "metadata": {},
     "output_type": "display_data"
    }
   ],
   "source": [
    "import matplotlib as mpl\n",
    "import matplotlib.pyplot as plt\n",
    "import numpy as np\n",
    "from sklearn import datasets\n",
    "\n",
    "iris = datasets.load_iris()#数据集自带的数据库\n",
    "print(iris.keys())\n",
    "print(iris.data.shape)\n",
    "#print(iris.data)#鸢尾花数据，4维\n",
    "print(iris.feature_names)#4维分别对应的意义\n",
    "print(iris.target)#数据对应的标签\n",
    "print(iris.target_names)#标签对应的花名\n",
    "x = iris.data[:,:2]\n",
    "#plt.scatter(x[:,0],x[:,1])\n",
    "y = iris.target\n",
    "plt.scatter(x[y==0,0],x[y==0,1],color='r')#facy indexing\n",
    "plt.scatter(x[y==1,0],x[y==1,1],color='g')\n",
    "plt.scatter(x[y==2,0],x[y==2,1],color='b')\n",
    "plt.show()\n",
    "\n",
    "#测试数据集，将原有数据集拆分成训练数据集和测试数据集\n",
    "shuffle_indexes = np.random.permutation(len(x))#打乱索引\n",
    "test_ratio = 0.2\n",
    "test_size = int(len(x) *test_ratio)\n",
    "train_size = len(x) -test_size\n",
    "\n",
    "test_indexes = shuffle_indexes[:test_size]#设置训练数据集和测试数据集\n",
    "train_indexes = shuffle_indexes[test_size:]\n",
    "x_test = x[test_indexes]\n",
    "y_train = y[train_indexes]\n",
    "x_test = x[test_indexes]\n",
    "y_train = y[train_indexes]\n",
    "\n"
   ]
  },
  {
   "cell_type": "code",
   "execution_count": 46,
   "metadata": {},
   "outputs": [
    {
     "name": "stdout",
     "output_type": "stream",
     "text": [
      "[0 1 2 1 0 1 1 0 2 1 2 2 0 1 2 0 0 0 1 1 0 1 2 1 0 0 2 0 0 0]\n",
      "[0 1 2 1 0 1 1 0 2 1 1 1 0 1 2 0 0 0 2 2 0 1 1 2 0 0 2 0 0 0]\n",
      "[True, True, True, True, True, True, True, True, True, True, True, True, True, True, True, True, True, True, True, True, True, True, True, True, True, True, True, True, True, True]\n",
      "100.0 %\n"
     ]
    }
   ],
   "source": [
    "#调用自己写的分类函数\n",
    "%run C:\\Users\\TH\\Desktop\\ML\\Pycharm\\KNN_function\\selection_data\n",
    "x_train,x_test,y_train,y_test = train_test_split(x,y)\n",
    "%run C:\\Users\\TH\\Desktop\\ML\\Pycharm\\KNN_function\\KNN2\n",
    "my_knn_clf = KNNClassifier(k=3)\n",
    "my_knn_clf.fit(x_train,y_train)\n",
    "y_predict = my_knn_clf.predict(x_test)\n",
    "print(y_predict)\n",
    "print(y_test)\n",
    "juge = [(y_predict[i]==y_test[i]) for i in y_predict]\n",
    "print(juge)\n",
    "print(sum(juge)/test_size*100,\"%\")"
   ]
  },
  {
   "cell_type": "code",
   "execution_count": null,
   "metadata": {},
   "outputs": [],
   "source": []
  },
  {
   "cell_type": "code",
   "execution_count": null,
   "metadata": {},
   "outputs": [],
   "source": []
  }
 ],
 "metadata": {
  "kernelspec": {
   "display_name": "Python 3",
   "language": "python",
   "name": "python3"
  },
  "language_info": {
   "codemirror_mode": {
    "name": "ipython",
    "version": 3
   },
   "file_extension": ".py",
   "mimetype": "text/x-python",
   "name": "python",
   "nbconvert_exporter": "python",
   "pygments_lexer": "ipython3",
   "version": "3.6.5"
  }
 },
 "nbformat": 4,
 "nbformat_minor": 2
}
