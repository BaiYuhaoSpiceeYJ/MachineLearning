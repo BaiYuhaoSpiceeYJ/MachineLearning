{
 "cells": [
  {
   "cell_type": "code",
   "execution_count": 28,
   "metadata": {},
   "outputs": [
    {
     "name": "stdout",
     "output_type": "stream",
     "text": [
      "[1, 1, 1, 1, 1]\n"
     ]
    },
    {
     "data": {
      "image/png": "[encoded data removed]",
      "text/plain": [
       "<Figure size 432x288 with 1 Axes>"
      ]
     },
     "metadata": {},
     "output_type": "display_data"
    }
   ],
   "source": [
    "import numpy as np\n",
    "import matplotlib.pyplot as plt\n",
    "from math import sqrt\n",
    "from collections import Counter\n",
    "\n",
    "#原有数据\n",
    "raw_data_x = [[3.39,2.33],\n",
    "              [3.11,1.78],\n",
    "              [1.34,3.37],\n",
    "              [3.58,4.68],\n",
    "              [2.28,2.87],\n",
    "              [7.42,4.70],\n",
    "              [5.74,3.53],\n",
    "              [9.17,2.51],\n",
    "              [7.79,3.42],\n",
    "              [7.79,0.79]]\n",
    "raw_data_y = [0,0,0,0,0,1,1,1,1,1]\n",
    "x_train = np.array(raw_data_x)\n",
    "y_train = np.array(raw_data_y)\n",
    "plt.scatter(x_train[y_train==0,0],x_train[y_train==0,1],color='g')\n",
    "plt.scatter(x_train[y_train==1,0],x_train[y_train==1,1],color='r')\n",
    "\n",
    "#待测数据\n",
    "s = np.array([8.09,3.37])\n",
    "plt.scatter(s[0],s[1],color='b')\n",
    "\n",
    "#得到s与样本x中每一项的欧氏距离\n",
    "distances = []\n",
    "for x in x_train:\n",
    "    d = sqrt(np.sum((x-s)**2))\n",
    "    distances.append(d)\n",
    "distances#python中可用一句话表示 distances=[sqrt(np.sum((x-s)**2)) for x in x_train]\n",
    "\n",
    "\n",
    "#对distances排序并输出\n",
    "k_nearest = np.argsort(distances)#返回索引\n",
    "k=5\n",
    "k_top_y = [y_train[i] for i in k_nearest[:k]] #根据索引找到y中的元素\n",
    "print(k_top_y)\n",
    "vote = Counter(k_top_y)#对数组进行统计操作\n",
    "predict = vote.most_common(1)[0][0]#统计票数最多的元素，返回一个数组,再返回标签，为预测结果"
   ]
  },
  {
   "cell_type": "code",
   "execution_count": 31,
   "metadata": {},
   "outputs": [
    {
     "name": "stdout",
     "output_type": "stream",
     "text": [
      "1\n"
     ]
    },
    {
     "data": {
      "image/png": "[encoded data removed]",
      "text/plain": [
       "<Figure size 432x288 with 1 Axes>"
      ]
     },
     "metadata": {},
     "output_type": "display_data"
    }
   ],
   "source": [
    "#PyCharm封装函数\n",
    "import numpy as np\n",
    "import matplotlib.pyplot as plt\n",
    "from math import sqrt\n",
    "from collections import Counter\n",
    "\n",
    "#原有数据\n",
    "raw_data_x = [[3.39,2.33],\n",
    "              [3.11,1.78],\n",
    "              [1.34,3.37],\n",
    "              [3.58,4.68],\n",
    "              [2.28,2.87],\n",
    "              [7.42,4.70],\n",
    "              [5.74,3.53],\n",
    "              [9.17,2.51],\n",
    "              [7.79,3.42],\n",
    "              [7.79,0.79]]\n",
    "raw_data_y = [0,0,0,0,0,1,1,1,1,1]\n",
    "x_train = np.array(raw_data_x)\n",
    "y_train = np.array(raw_data_y)\n",
    "plt.scatter(x_train[y_train==0,0],x_train[y_train==0,1],color='g')\n",
    "plt.scatter(x_train[y_train==1,0],x_train[y_train==1,1],color='r')\n",
    "\n",
    "#待测数据\n",
    "s = np.array([8.09,3.37])\n",
    "plt.scatter(s[0],s[1],color='b')\n",
    "\n",
    "%run C:\\Users\\TH\\Desktop\\ML\\Pycharm\\KNN.py\n",
    "predict = KNN_classify(5,x_train,y_train,s)\n",
    "print(predict)"
   ]
  },
  {
   "cell_type": "code",
   "execution_count": 39,
   "metadata": {},
   "outputs": [
    {
     "data": {
      "text/plain": [
       "array([1])"
      ]
     },
     "execution_count": 39,
     "metadata": {},
     "output_type": "execute_result"
    }
   ],
   "source": [
    "#scikit-learn中的KNN\n",
    "from sklearn.neighbors import KNeighborsClassifier\n",
    "KNN_classifier = KNeighborsClassifier(n_neighbors=6)#创建一个KNN，n_neighbors即为k\n",
    "KNN_classifier.fit(x_train,y_train)\n",
    "s = np.array([[8.09,3.37]])\n",
    "KNN_classifier.predict(s)"
   ]
  },
  {
   "cell_type": "code",
   "execution_count": 52,
   "metadata": {},
   "outputs": [
    {
     "data": {
      "text/plain": [
       "array([1])"
      ]
     },
     "execution_count": 52,
     "metadata": {},
     "output_type": "execute_result"
    }
   ],
   "source": [
    "#pycharm自己写scikit_learn中的KNN函数\n",
    "%run C:\\Users\\TH\\Desktop\\ML\\Pycharm\\KNN_function\\KNN2\n",
    "knn_clf = KNNClassifier(k=6)\n",
    "knn_clf.fit(x_train,y_train)\n",
    "predict = knn_clf.predict(s)\n",
    "predict"
   ]
  },
  {
   "cell_type": "code",
   "execution_count": null,
   "metadata": {},
   "outputs": [],
   "source": []
  },
  {
   "cell_type": "code",
   "execution_count": null,
   "metadata": {},
   "outputs": [],
   "source": []
  }
 ],
 "metadata": {
  "kernelspec": {
   "display_name": "Python 3",
   "language": "python",
   "name": "python3"
  },
  "language_info": {
   "codemirror_mode": {
    "name": "ipython",
    "version": 3
   },
   "file_extension": ".py",
   "mimetype": "text/x-python",
   "name": "python",
   "nbconvert_exporter": "python",
   "pygments_lexer": "ipython3",
   "version": "3.6.5"
  }
 },
 "nbformat": 4,
 "nbformat_minor": 2
}
