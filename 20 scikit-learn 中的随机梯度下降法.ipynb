{
 "cells": [
  {
   "cell_type": "code",
   "execution_count": 20,
   "metadata": {},
   "outputs": [
    {
     "name": "stderr",
     "output_type": "stream",
     "text": [
      "E:\\Anaconda3\\lib\\site-packages\\sklearn\\linear_model\\stochastic_gradient.py:117: DeprecationWarning: n_iter parameter is deprecated in 0.19 and will be removed in 0.21. Use max_iter and tol instead.\n",
      "  DeprecationWarning)\n"
     ]
    },
    {
     "data": {
      "text/plain": [
       "0.7798196316759417"
      ]
     },
     "execution_count": 20,
     "metadata": {},
     "output_type": "execute_result"
    }
   ],
   "source": [
    "#scikit-learn中的sgd\n",
    "from sklearn.linear_model import SGDRegressor#虽然是梯度下降法但是在线性模型包中所以只能解决线性问题\n",
    "sgd_reg = SGDRegressor(n_iter=5,tol=0.0001)\n",
    "sgd_reg.fit(x_train_standard,y_train)\n",
    "sgd_reg.score(x_test_standard,y_test)\n",
    "\n"
   ]
  },
  {
   "cell_type": "code",
   "execution_count": 7,
   "metadata": {},
   "outputs": [
    {
     "name": "stdout",
     "output_type": "stream",
     "text": [
      "[-0.71476653 -0.1245948  -2.15184282 -0.15469328 -0.66326202  2.52901648\n",
      " -1.07578764 -2.12984185 -2.0812938   2.57222212 -1.74963117  0.66813451\n",
      " -2.2967076 ]\n",
      "21.62415124132613\n",
      "0.7385932081706117\n"
     ]
    }
   ],
   "source": [
    "#使用自己的sgd\n",
    "from sklearn import datasets\n",
    "boston = datasets.load_boston()#房价数据集,506个对象，每个有13个特征\n",
    "x = boston.data#只使用全部特征\n",
    "y = boston.target#房价\n",
    "x = x[y<50.]\n",
    "y = y[y<50.]\n",
    "\n",
    "from sklearn.model_selection import train_test_split\n",
    "x_train,x_test,y_train,y_test = train_test_split(x,y,random_state=666)\n",
    "\n",
    "from sklearn.preprocessing import StandardScaler#归一化\n",
    "standardScaler = StandardScaler()\n",
    "standardScaler.fit(x_train)\n",
    "x_train_standard = standardScaler.transform(x_train)\n",
    "x_test_standard = standardScaler.transform(x_test)#不能忘记对测试数据同样归一化\n",
    "\n",
    "import sys#引用不在一个文件夹中的.py文件\n",
    "sys.path.append(r'C:\\Users\\TH\\Desktop\\ML\\Pycharm\\SimpleLinearRegression')\n",
    "from LinearRegression import LinearRegression\n",
    "\n",
    "lin_reg = LinearRegression()\n",
    "lin_reg.fit_sgd(x_train_standard,y_train,n_iters=5)\n",
    "score = lin_reg.score(x_test_standard,y_test)\n",
    "print(lin_reg.coef_)\n",
    "print(lin_reg.intercept_)\n",
    "print(score)"
   ]
  }
 ],
 "metadata": {
  "kernelspec": {
   "display_name": "Python 3",
   "language": "python",
   "name": "python3"
  },
  "language_info": {
   "codemirror_mode": {
    "name": "ipython",
    "version": 3
   },
   "file_extension": ".py",
   "mimetype": "text/x-python",
   "name": "python",
   "nbconvert_exporter": "python",
   "pygments_lexer": "ipython3",
   "version": "3.6.5"
  }
 },
 "nbformat": 4,
 "nbformat_minor": 2
}
