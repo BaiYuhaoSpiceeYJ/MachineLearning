{
 "cells": [
  {
   "cell_type": "code",
   "execution_count": 8,
   "metadata": {},
   "outputs": [
    {
     "name": "stdout",
     "output_type": "stream",
     "text": [
      "precision_score= 0.9317444200458842\n",
      "recall_score= 0.9312195364786084\n",
      "f1_score= 0.9311365480583508\n",
      "[[147   0   1   0   0   1   0   0   0   0]\n",
      " [  0 123   1   2   0   0   0   3   4  10]\n",
      " [  0   0 134   1   0   0   0   0   1   0]\n",
      " [  0   0   0 138   0   5   0   1   5   0]\n",
      " [  2   5   0   0 139   0   0   3   0   1]\n",
      " [  1   3   1   0   0 146   0   0   1   0]\n",
      " [  0   2   0   0   0   1 131   0   2   0]\n",
      " [  0   0   0   1   0   0   0 132   1   2]\n",
      " [  1   9   2   3   2   4   0   0 115   4]\n",
      " [  0   1   0   5   0   3   0   2   2 134]]\n"
     ]
    },
    {
     "data": {
      "image/png": "[encoded data removed]",
      "text/plain": [
       "<Figure size 288x288 with 1 Axes>"
      ]
     },
     "metadata": {},
     "output_type": "display_data"
    },
    {
     "name": "stdout",
     "output_type": "stream",
     "text": [
      "[[0.         0.         0.00735294 0.         0.         0.00657895\n",
      "  0.         0.         0.         0.        ]\n",
      " [0.         0.         0.00735294 0.01342282 0.         0.\n",
      "  0.         0.02205882 0.02857143 0.06802721]\n",
      " [0.         0.         0.         0.00671141 0.         0.\n",
      "  0.         0.         0.00714286 0.        ]\n",
      " [0.         0.         0.         0.         0.         0.03289474\n",
      "  0.         0.00735294 0.03571429 0.        ]\n",
      " [0.01342282 0.03496503 0.         0.         0.         0.\n",
      "  0.         0.02205882 0.         0.00680272]\n",
      " [0.00671141 0.02097902 0.00735294 0.         0.         0.\n",
      "  0.         0.         0.00714286 0.        ]\n",
      " [0.         0.01398601 0.         0.         0.         0.00657895\n",
      "  0.         0.         0.01428571 0.        ]\n",
      " [0.         0.         0.         0.00671141 0.         0.\n",
      "  0.         0.         0.00714286 0.01360544]\n",
      " [0.00671141 0.06293706 0.01470588 0.02013423 0.01333333 0.02631579\n",
      "  0.         0.         0.         0.02721088]\n",
      " [0.         0.00699301 0.         0.03355705 0.         0.01973684\n",
      "  0.         0.01470588 0.01428571 0.        ]]\n"
     ]
    },
    {
     "data": {
      "image/png": "[encoded data removed]",
      "text/plain": [
       "<Figure size 288x288 with 1 Axes>"
      ]
     },
     "metadata": {},
     "output_type": "display_data"
    }
   ],
   "source": [
    "import numpy as np\n",
    "import matplotlib.pyplot as plt\n",
    "\n",
    "from sklearn import datasets\n",
    "digits = datasets.load_digits()\n",
    "X = digits.data\n",
    "y = digits.target\n",
    "\n",
    "from sklearn.model_selection import train_test_split\n",
    "X_train, X_test, y_train, y_test = train_test_split(X, y, test_size=0.8, random_state=666)\n",
    "\n",
    "from sklearn.linear_model import LogisticRegression\n",
    "log_reg = LogisticRegression()\n",
    "log_reg.fit(X_train, y_train)\n",
    "y_predict = log_reg.predict(X_test)\n",
    "\n",
    "from sklearn.metrics import precision_score\n",
    "from sklearn.metrics import recall_score\n",
    "from sklearn.metrics import f1_score\n",
    "print(\"precision_score=\",precision_score(y_test, y_predict,average='macro'))#weighted,micro\n",
    "print(\"recall_score=\",recall_score(y_test, y_predict,average='macro'))\n",
    "print(\"f1_score=\",f1_score(y_test, y_predict,average='macro'))\n",
    "\n",
    "from sklearn.metrics import confusion_matrix\n",
    "print(confusion_matrix(y_test, y_predict))\n",
    "cfm = confusion_matrix(y_test, y_predict)\n",
    "plt.matshow(cfm,cmap=plt.cm.Reds)#映射成图像(灰度图)\n",
    "plt.show()\n",
    "\n",
    "row_sums = np.sum(cfm,axis=1)#求每行的和\n",
    "err_matrix = cfm / row_sums\n",
    "np.fill_diagonal(err_matrix,0)#对角线填成0\n",
    "print(err_matrix)\n",
    "\n",
    "plt.matshow(err_matrix,cmap=plt.cm.Reds)#映射成图像(灰度图),得出很容易混淆（1,9），（2,8），可以进行微调\n",
    "plt.show()"
   ]
  },
  {
   "cell_type": "code",
   "execution_count": 7,
   "metadata": {},
   "outputs": [
    {
     "name": "stdout",
     "output_type": "stream",
     "text": [
      "precision_score= 0.9677896429029703\n",
      "recall_score= 0.9674629924028955\n",
      "f1_score= 0.967325037136938\n",
      "[[149   0   0   0   0   0   0   0   0   0]\n",
      " [  0 143   0   0   0   0   0   0   0   0]\n",
      " [  0   0 134   0   0   0   0   0   2   0]\n",
      " [  0   0   2 143   0   2   0   1   1   0]\n",
      " [  1   1   0   0 146   0   0   1   0   1]\n",
      " [  0   0   0   1   0 147   1   0   0   3]\n",
      " [  1   1   0   0   0   0 134   0   0   0]\n",
      " [  0   0   0   0   0   0   0 135   0   1]\n",
      " [  1   6   0   2   0   3   1   1 125   1]\n",
      " [  1   0   0   7   0   2   0   0   2 135]]\n"
     ]
    },
    {
     "data": {
      "image/png": "[encoded data removed]",
      "text/plain": [
       "<Figure size 288x288 with 1 Axes>"
      ]
     },
     "metadata": {},
     "output_type": "display_data"
    },
    {
     "name": "stdout",
     "output_type": "stream",
     "text": [
      "[[0.         0.         0.         0.         0.         0.\n",
      "  0.         0.         0.         0.        ]\n",
      " [0.         0.         0.         0.         0.         0.\n",
      "  0.         0.         0.         0.        ]\n",
      " [0.         0.         0.         0.         0.         0.\n",
      "  0.         0.         0.01428571 0.        ]\n",
      " [0.         0.         0.01470588 0.         0.         0.01315789\n",
      "  0.         0.00735294 0.00714286 0.        ]\n",
      " [0.00671141 0.00699301 0.         0.         0.         0.\n",
      "  0.         0.00735294 0.         0.00680272]\n",
      " [0.         0.         0.         0.00671141 0.         0.\n",
      "  0.00735294 0.         0.         0.02040816]\n",
      " [0.00671141 0.00699301 0.         0.         0.         0.\n",
      "  0.         0.         0.         0.        ]\n",
      " [0.         0.         0.         0.         0.         0.\n",
      "  0.         0.         0.         0.00680272]\n",
      " [0.00671141 0.04195804 0.         0.01342282 0.         0.01973684\n",
      "  0.00735294 0.00735294 0.         0.00680272]\n",
      " [0.00671141 0.         0.         0.04697987 0.         0.01315789\n",
      "  0.         0.         0.01428571 0.        ]]\n"
     ]
    },
    {
     "data": {
      "image/png": "[encoded data removed]",
      "text/plain": [
       "<Figure size 288x288 with 1 Axes>"
      ]
     },
     "metadata": {},
     "output_type": "display_data"
    }
   ],
   "source": [
    "import numpy as np\n",
    "import matplotlib.pyplot as plt\n",
    "\n",
    "from sklearn import datasets\n",
    "digits = datasets.load_digits()\n",
    "X = digits.data\n",
    "y = digits.target\n",
    "\n",
    "from sklearn.model_selection import train_test_split\n",
    "X_train, X_test, y_train, y_test = train_test_split(X, y, test_size=0.8, random_state=666)\n",
    "\n",
    "from sklearn.neighbors import KNeighborsClassifier\n",
    "knn_reg = KNeighborsClassifier(n_neighbors=3)\n",
    "knn_reg.fit(X_train, y_train)\n",
    "y_predict = knn_reg.predict(X_test)\n",
    "\n",
    "from sklearn.metrics import precision_score\n",
    "from sklearn.metrics import recall_score\n",
    "from sklearn.metrics import f1_score\n",
    "print(\"precision_score=\",precision_score(y_test, y_predict,average='macro'))#weighted,micro\n",
    "print(\"recall_score=\",recall_score(y_test, y_predict,average='macro'))\n",
    "print(\"f1_score=\",f1_score(y_test, y_predict,average='macro'))\n",
    "\n",
    "from sklearn.metrics import confusion_matrix\n",
    "print(confusion_matrix(y_test, y_predict))\n",
    "cfm = confusion_matrix(y_test, y_predict)\n",
    "plt.matshow(cfm,cmap=plt.cm.Reds)#映射成图像(灰度图)\n",
    "plt.show()\n",
    "\n",
    "row_sums = np.sum(cfm,axis=1)#求每行的和\n",
    "err_matrix = cfm / row_sums\n",
    "np.fill_diagonal(err_matrix,0)#对角线填成0\n",
    "print(err_matrix)\n",
    "\n",
    "plt.matshow(err_matrix,cmap=plt.cm.Reds)#映射成图像(灰度图),得出很容易混淆（1,9），（2,8），可以进行微调\n",
    "plt.show()"
   ]
  },
  {
   "cell_type": "code",
   "execution_count": null,
   "metadata": {},
   "outputs": [],
   "source": []
  }
 ],
 "metadata": {
  "kernelspec": {
   "display_name": "Python 3",
   "language": "python",
   "name": "python3"
  },
  "language_info": {
   "codemirror_mode": {
    "name": "ipython",
    "version": 3
   },
   "file_extension": ".py",
   "mimetype": "text/x-python",
   "name": "python",
   "nbconvert_exporter": "python",
   "pygments_lexer": "ipython3",
   "version": "3.6.5"
  }
 },
 "nbformat": 4,
 "nbformat_minor": 2
}
