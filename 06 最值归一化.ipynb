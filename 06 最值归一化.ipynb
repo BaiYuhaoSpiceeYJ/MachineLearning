{
 "cells": [
  {
   "cell_type": "code",
   "execution_count": 54,
   "metadata": {},
   "outputs": [
    {
     "name": "stdout",
     "output_type": "stream",
     "text": [
      "[[0.06813627 0.14028056]\n",
      " [0.19639279 0.04809619]\n",
      " [0.1262525  0.10621242]\n",
      " [0.1002004  0.1743487 ]\n",
      " [0.19038077 0.08817635]\n",
      " [0.05611223 0.1262525 ]\n",
      " [0.11623246 0.02004008]\n",
      " [0.00801603 0.03406814]\n",
      " [0.01402806 0.18637274]\n",
      " [0.10420842 0.11422846]\n",
      " [0.1783567  0.1482966 ]\n",
      " [0.19238476 0.11222445]\n",
      " [0.1743487  0.04008016]\n",
      " [0.03406814 0.05811623]\n",
      " [0.14028056 0.15631263]\n",
      " [0.00400802 0.10621242]\n",
      " [0.1783567  0.00801603]\n",
      " [0.06813627 0.        ]\n",
      " [0.1503006  0.12224449]\n",
      " [0.14228457 0.18637274]\n",
      " [0.16032064 0.04008016]\n",
      " [0.03607215 0.10420842]\n",
      " [0.07014028 0.11222445]\n",
      " [0.02805611 0.05811623]\n",
      " [0.01803607 0.03807615]\n",
      " [0.08416834 0.        ]\n",
      " [0.19438878 0.08817635]\n",
      " [0.03406814 0.0741483 ]\n",
      " [0.14629258 0.0761523 ]\n",
      " [0.06212425 0.18637274]\n",
      " [0.04208417 0.18036072]\n",
      " [0.15430862 0.05811623]\n",
      " [0.11623246 0.01402806]\n",
      " [0.08216433 0.13827655]\n",
      " [0.1482966  0.06613226]\n",
      " [0.01402806 0.18637274]\n",
      " [0.11823647 0.13827655]\n",
      " [0.12024048 0.01402806]\n",
      " [0.0260521  0.04809619]\n",
      " [0.12825651 0.19438878]\n",
      " [0.0761523  0.0741483 ]\n",
      " [0.1482966  0.01603206]\n",
      " [0.12024048 0.04008016]\n",
      " [0.09018036 0.12224449]\n",
      " [0.0741483  0.10220441]\n",
      " [0.         0.07014028]\n",
      " [0.02805611 0.03406814]\n",
      " [0.1242485  0.16833667]\n",
      " [0.17034069 0.02204409]\n",
      " [1.         1.        ]]\n",
      "[[0.06813627 0.14001909]\n",
      " [0.19639279 0.04800654]\n",
      " [0.1262525  0.10601445]\n",
      " [0.1002004  0.17402372]\n",
      " [0.19038077 0.08801199]\n",
      " [0.05611223 0.12601717]\n",
      " [0.11623246 0.02000273]\n",
      " [0.00801603 0.03400464]\n",
      " [0.01402806 0.18602535]\n",
      " [0.10420842 0.11401554]\n",
      " [0.1783567  0.14802018]\n",
      " [0.19238476 0.11201527]\n",
      " [0.1743487  0.04000545]\n",
      " [0.03406814 0.05800791]\n",
      " [0.14028056 0.15602127]\n",
      " [0.00400802 0.10601445]\n",
      " [0.1783567  0.00800109]\n",
      " [0.06813627 0.        ]\n",
      " [0.1503006  0.12201663]\n",
      " [0.14228457 0.18602535]\n",
      " [0.16032064 0.04000545]\n",
      " [0.03607215 0.10401417]\n",
      " [0.07014028 0.11201527]\n",
      " [0.02805611 0.05800791]\n",
      " [0.01803607 0.03800518]\n",
      " [0.08416834 0.        ]\n",
      " [0.19438878 0.08801199]\n",
      " [0.03406814 0.07401009]\n",
      " [0.14629258 0.07601036]\n",
      " [0.06212425 0.18602535]\n",
      " [0.04208417 0.18002453]\n",
      " [0.15430862 0.05800791]\n",
      " [0.11623246 0.01400191]\n",
      " [0.08216433 0.13801882]\n",
      " [0.1482966  0.066009  ]\n",
      " [0.01402806 0.18602535]\n",
      " [0.11823647 0.13801882]\n",
      " [0.12024048 0.01400191]\n",
      " [0.0260521  0.04800654]\n",
      " [0.12825651 0.19402644]\n",
      " [0.0761523  0.07401009]\n",
      " [0.1482966  0.01600218]\n",
      " [0.12024048 0.04000545]\n",
      " [0.09018036 0.12201663]\n",
      " [0.0741483  0.1020139 ]\n",
      " [0.         0.07000954]\n",
      " [0.02805611 0.03400464]\n",
      " [0.1242485  0.1680229 ]\n",
      " [0.17034069 0.022003  ]\n",
      " [1.         0.99813604]]\n"
     ]
    },
    {
     "data": {
      "image/png": "[encoded data removed]",
      "text/plain": [
       "<Figure size 432x288 with 1 Axes>"
      ]
     },
     "metadata": {},
     "output_type": "display_data"
    },
    {
     "name": "stdout",
     "output_type": "stream",
     "text": [
      "0.1171543\n",
      "0.13895117\n"
     ]
    },
    {
     "data": {
      "image/png": "[encoded data removed]",
      "text/plain": [
       "<Figure size 432x288 with 1 Axes>"
      ]
     },
     "metadata": {},
     "output_type": "display_data"
    },
    {
     "name": "stdout",
     "output_type": "stream",
     "text": [
      "6.67572e-08\n",
      "1.0\n"
     ]
    }
   ],
   "source": [
    "#最值归一化\n",
    "import numpy as np\n",
    "import matplotlib.pyplot as plt\n",
    "\n",
    "x = np.random.randint(0,100,size = 100)\n",
    "x = (x - np.min(x))/(np.max(x)-np.min(x))\n",
    "\n",
    "y = np.random.randint(0,100,(50,2))#矩阵只能存储一种数据类型\n",
    "y[49,:] = [500,500]\n",
    "y = np.array(y,dtype = 'float32')\n",
    "z = y\n",
    "y = (y - np.min(y))/(np.max(y)-np.min(y))\n",
    "print(y)\n",
    "\n",
    "z0_min = np.min(z[:,0])\n",
    "z0_max = np.max(z[:,0])\n",
    "z[:,0] = (z[:,0]-z0_min)/(z0_max-z0_min)#对每个特征归一化\n",
    "z[:,1] = (z[:,1]-np.min(z[:,1]))/(np.max(z[:,1])-np.min(z[:1]))\n",
    "#z[:,0] = (z[:,0]-np.min(z[:,0]))/(np.max(z[:,0])-np.min(z[:0]))\n",
    "print(z)\n",
    "#y,z结果不同\n",
    "\n",
    "plt.scatter(z[:,0],z[:,1],color='g')\n",
    "plt.show()\n",
    "print(np.mean(z[:,0]))\n",
    "print(np.std(z[:,0]))\n",
    "\n",
    "#均值方差归一化\n",
    "y2= y\n",
    "y2= np.array(y2,dtype = 'float32')\n",
    "y2[:,0] = (y2[:,0] - np.mean(y2[:,0]))/np.std(y2[:,0])\n",
    "y2[:,1] = (y2[:,1] - np.mean(y2[:,1]))/np.std(y2[:,1])\n",
    "plt.scatter(y2[:,0],y2[:,1],color='r')\n",
    "plt.show()\n",
    "print(np.mean(y2[:,0]))\n",
    "print(np.std(y2[:,0]))"
   ]
  },
  {
   "cell_type": "code",
   "execution_count": null,
   "metadata": {},
   "outputs": [],
   "source": []
  },
  {
   "cell_type": "code",
   "execution_count": null,
   "metadata": {},
   "outputs": [],
   "source": []
  }
 ],
 "metadata": {
  "kernelspec": {
   "display_name": "Python 3",
   "language": "python",
   "name": "python3"
  },
  "language_info": {
   "codemirror_mode": {
    "name": "ipython",
    "version": 3
   },
   "file_extension": ".py",
   "mimetype": "text/x-python",
   "name": "python",
   "nbconvert_exporter": "python",
   "pygments_lexer": "ipython3",
   "version": "3.6.5"
  }
 },
 "nbformat": 4,
 "nbformat_minor": 2
}
