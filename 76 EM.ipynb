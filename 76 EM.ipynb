{
 "cells": [
  {
   "cell_type": "code",
   "execution_count": 2,
   "metadata": {},
   "outputs": [
    {
     "ename": "IndentationError",
     "evalue": "expected an indented block (<ipython-input-2-589e608ee8aa>, line 54)",
     "output_type": "error",
     "traceback": [
      "\u001b[1;36m  File \u001b[1;32m\"<ipython-input-2-589e608ee8aa>\"\u001b[1;36m, line \u001b[1;32m54\u001b[0m\n\u001b[1;33m    log_resp = weighted_log_prob - log_prob_norm[:, np.newaxis]\u001b[0m\n\u001b[1;37m           ^\u001b[0m\n\u001b[1;31mIndentationError\u001b[0m\u001b[1;31m:\u001b[0m expected an indented block\n"
     ]
    }
   ],
   "source": [
    "#（1）首先将模型完全转换成对数计算，根据高斯密度函数公式分别计算k个组成高斯模型的log值，即logP(x|z)的值\n",
    "def _estimate_log_gaussian_prob(X, means, precisions_chol, covariance_type):\n",
    "# 计算精度矩阵的1/2次方log_det（代码精度矩阵是通过cholesky获取）\n",
    "    log_det = _compute_log_det_cholesky(\n",
    "        precisions_chol, covariance_type, n_features)\n",
    "# 对应上面四种协方差类型，分别计算精度矩阵与（x-u)相乘那部分log_prob\n",
    "    if covariance_type == 'full':\n",
    "        log_prob = np.empty((n_samples, n_components))\n",
    "        for k, (mu, prec_chol) in enumerate(zip(means, precisions_chol)):\n",
    "            y = np.dot(X, prec_chol) - np.dot(mu, prec_chol)\n",
    "            log_prob[:, k] = np.sum(np.square(y), axis=1)\n",
    "\n",
    "    elif covariance_type == 'tied':\n",
    "        log_prob = np.empty((n_samples, n_components))\n",
    "        for k, mu in enumerate(means):\n",
    "            y = np.dot(X, precisions_chol) - np.dot(mu, precisions_chol)\n",
    "            log_prob[:, k] = np.sum(np.square(y), axis=1)\n",
    "\n",
    "    elif covariance_type == 'diag':\n",
    "        precisions = precisions_chol ** 2\n",
    "        log_prob = (np.sum((means ** 2 * precisions), 1) -\n",
    "                    2. * np.dot(X, (means * precisions).T) +\n",
    "                    np.dot(X ** 2, precisions.T))\n",
    "\n",
    "    elif covariance_type == 'spherical':\n",
    "        precisions = precisions_chol ** 2\n",
    "        log_prob = (np.sum(means ** 2, 1) * precisions -\n",
    "                    2 * np.dot(X, means.T * precisions) +\n",
    "                    np.outer(row_norms(X, squared=True), precisions))\n",
    "# 最后计算出logP(x|z)的值\n",
    "return -.5 * (n_features * np.log(2 * np.pi) + log_prob) + log_det   \n",
    "\n",
    "\n",
    "\n",
    "\n",
    "\n",
    "\n",
    "#（2）P(x|z)*P(z)计算每个模型的概率分布P(x,z),求对数则就是相加了\n",
    "def _estimate_weighted_log_prob(self, X):\n",
    "    return self._estimate_log_prob(X) + self._estimate_log_weights()\n",
    "\n",
    "\n",
    "\n",
    "\n",
    "\n",
    "\n",
    "#（3）最后开始计算每个模型的后验概率logP(z|x)，即Q函数\n",
    "def _estimate_log_prob_resp(self, X):\n",
    "    weighted_log_prob = self._estimate_weighted_log_prob(X)\n",
    "#计算P(X)\n",
    "    log_prob_norm = logsumexp(weighted_log_prob, axis=1)\n",
    "    with np.errstate(under='ignore'):\n",
    " # 忽略下溢,计算每个高斯模型的后验概率，即占比，对数则相减\n",
    "    log_resp = weighted_log_prob - log_prob_norm[:, np.newaxis]\n",
    "    return log_prob_norm, log_resp\n",
    "\n",
    "\n",
    "\n",
    "\n",
    "\n",
    "#(4)调用以上函数\n",
    " #返回所有样本的概率均值，及每个高斯分布的Q值\n",
    "def _e_step(self, X):\n",
    "log_prob_norm, log_resp = self._estimate_log_prob_resp(X)\n",
    "    return np.mean(log_prob_norm), log_resp\n",
    "2.对应M step\n",
    "\n",
    "def _m_step(self, X, log_resp):\n",
    "#根据上面获得的每个高斯模型的Q值(log_resp)。重新估算均值self.means_，协方差self.covariances_，当前符合各高斯模型的样本数目self.weights_（函数名起的像权重，实际指的是数目）\n",
    "n_samples, _ = X.shape\n",
    "self.weights_, self.means_, self.covariances_ = (\n",
    "            _estimate_gaussian_parameters(X, np.exp(log_resp), self.reg_covar,\n",
    "                                          self.covariance_type))\n",
    "#更新当前各高斯模型的先验概率，即P(Z)\n",
    "self.weights_ /= n_samples\n",
    "#根据cholesky分解计算精度矩阵\n",
    "self.precisions_cholesky_ = _compute_precision_cholesky(\n",
    "            self.covariances_, self.covariance_type)\n"
   ]
  },
  {
   "cell_type": "code",
   "execution_count": null,
   "metadata": {},
   "outputs": [],
   "source": []
  }
 ],
 "metadata": {
  "kernelspec": {
   "display_name": "Python 3",
   "language": "python",
   "name": "python3"
  },
  "language_info": {
   "codemirror_mode": {
    "name": "ipython",
    "version": 3
   },
   "file_extension": ".py",
   "mimetype": "text/x-python",
   "name": "python",
   "nbconvert_exporter": "python",
   "pygments_lexer": "ipython3",
   "version": "3.6.5"
  }
 },
 "nbformat": 4,
 "nbformat_minor": 2
}
