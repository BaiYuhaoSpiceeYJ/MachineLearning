{
 "cells": [
  {
   "cell_type": "code",
   "execution_count": 2,
   "metadata": {},
   "outputs": [
    {
     "name": "stdout",
     "output_type": "stream",
     "text": [
      "Wall time: 1 ms\n"
     ]
    },
    {
     "name": "stderr",
     "output_type": "stream",
     "text": [
      "E:\\Anaconda3\\lib\\site-packages\\numpy\\core\\fromnumeric.py:83: RuntimeWarning: overflow encountered in reduce\n",
      "  return ufunc.reduce(obj, axis, dtype, out, **passkwargs)\n",
      "C:\\Users\\TH\\Desktop\\ML\\Pycharm\\SimpleLinearRegression\\LinearRegression.py:26: RuntimeWarning: overflow encountered in square\n",
      "  return np.sum((y_train - x_b.dot(theta)) ** 2) / len(x_b)\n",
      "C:\\Users\\TH\\Desktop\\ML\\Pycharm\\SimpleLinearRegression\\LinearRegression.py:46: RuntimeWarning: invalid value encountered in double_scalars\n",
      "  if (abs(J(theta, x_b, y_train) - J(last_theta, x_b, y_train)) < epsilon):\n",
      "C:\\Users\\TH\\Desktop\\ML\\Pycharm\\SimpleLinearRegression\\LinearRegression.py:37: RuntimeWarning: overflow encountered in multiply\n",
      "  return x_b.T.dot(x_b.dot(theta)-y_train)*2./len(x_b)#向量化方法\n"
     ]
    },
    {
     "name": "stdout",
     "output_type": "stream",
     "text": [
      "Wall time: 551 ms\n"
     ]
    },
    {
     "data": {
      "text/plain": [
       "nan"
      ]
     },
     "execution_count": 2,
     "metadata": {},
     "output_type": "execute_result"
    }
   ],
   "source": [
    "from sklearn import datasets\n",
    "boston = datasets.load_boston()#房价数据集,506个对象，每个有13个特征\n",
    "x = boston.data#只使用全部特征\n",
    "y = boston.target#房价\n",
    "x = x[y<50.]\n",
    "y = y[y<50.]\n",
    "\n",
    "from sklearn.model_selection import train_test_split\n",
    "x_train,x_test,y_train,y_test = train_test_split(x,y,random_state=666)\n",
    "\n",
    "import sys#引用不在一个文件夹中的.py文件\n",
    "sys.path.append(r'C:\\Users\\TH\\Desktop\\ML\\Pycharm\\SimpleLinearRegression')\n",
    "from LinearRegression import LinearRegression\n",
    "\n",
    "lin_reg1 = LinearRegression()\n",
    "%time lin_reg1.fit_normal(x_train,y_train)\n",
    "lin_reg1.score(x_test,y_test)\n",
    "\n",
    "lin_reg2 = LinearRegression()\n",
    "%time lin_reg2.fit_gd(x_train,y_train)\n",
    "lin_reg2.score(x_test,y_test)\n",
    "#报错 因为此数据集数据规模不一样,需要进行归一化"
   ]
  },
  {
   "cell_type": "code",
   "execution_count": 10,
   "metadata": {},
   "outputs": [
    {
     "name": "stdout",
     "output_type": "stream",
     "text": [
      "Wall time: 487 ms\n",
      "0.7986763049526454\n"
     ]
    }
   ],
   "source": [
    "from sklearn import datasets\n",
    "boston = datasets.load_boston()#房价数据集,506个对象，每个有13个特征\n",
    "x = boston.data#只使用全部特征\n",
    "y = boston.target#房价\n",
    "x = x[y<50.]\n",
    "y = y[y<50.]\n",
    "\n",
    "from sklearn.model_selection import train_test_split\n",
    "x_train,x_test,y_train,y_test = train_test_split(x,y,random_state=666)\n",
    "\n",
    "from sklearn.preprocessing import StandardScaler#归一化\n",
    "standardScaler = StandardScaler()\n",
    "standardScaler.fit(x_train)\n",
    "x_train_standard = standardScaler.transform(x_train)\n",
    "x_test_standard = standardScaler.transform(x_test)#不能忘记对测试数据同样归一化\n",
    "\n",
    "import sys#引用不在一个文件夹中的.py文件\n",
    "sys.path.append(r'C:\\Users\\TH\\Desktop\\ML\\Pycharm\\SimpleLinearRegression')\n",
    "from LinearRegression import LinearRegression\n",
    "\n",
    "#lin_reg1 = LinearRegression()\n",
    "#%time lin_reg1.fit_normal(x_train,y_train)\n",
    "#lin_reg1.score(x_test,y_test)\n",
    "\n",
    "lin_reg2 = LinearRegression()\n",
    "%time lin_reg2.fit_gd(x_train_standard,y_train,eta=0.001,n_iters=1000000)\n",
    "a = lin_reg2.score(x_test_standard,y_test)\n",
    "print(a)"
   ]
  },
  {
   "cell_type": "code",
   "execution_count": null,
   "metadata": {},
   "outputs": [],
   "source": []
  },
  {
   "cell_type": "code",
   "execution_count": null,
   "metadata": {},
   "outputs": [],
   "source": []
  }
 ],
 "metadata": {
  "kernelspec": {
   "display_name": "Python 3",
   "language": "python",
   "name": "python3"
  },
  "language_info": {
   "codemirror_mode": {
    "name": "ipython",
    "version": 3
   },
   "file_extension": ".py",
   "mimetype": "text/x-python",
   "name": "python",
   "nbconvert_exporter": "python",
   "pygments_lexer": "ipython3",
   "version": "3.6.5"
  }
 },
 "nbformat": 4,
 "nbformat_minor": 2
}
