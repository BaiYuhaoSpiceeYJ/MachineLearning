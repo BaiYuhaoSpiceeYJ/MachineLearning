{
 "cells": [
  {
   "cell_type": "code",
   "execution_count": 38,
   "metadata": {},
   "outputs": [
    {
     "name": "stdout",
     "output_type": "stream",
     "text": [
      "[0.77660882 0.62998313]\n",
      "[0.77660882 0.62998313]\n"
     ]
    },
    {
     "data": {
      "image/png": "[encoded data removed]",
      "text/plain": [
       "<Figure size 432x288 with 1 Axes>"
      ]
     },
     "metadata": {},
     "output_type": "display_data"
    }
   ],
   "source": [
    "import numpy as np\n",
    "import matplotlib.pyplot as plt\n",
    "\n",
    "x = np.empty((100,2))\n",
    "np.random.seed(66)\n",
    "x[:,0] = np.random.uniform(0.,100.,size=100)\n",
    "x[:,1] = 0.75 * x[:,0] + 3. + np.random.normal(0, 10., size = 100)\n",
    "\n",
    "\n",
    "def demean(x):\n",
    "    return x - np.mean(x,axis=0)#在行上求每一列的均值，并做减法,向量化\n",
    "\n",
    "x_demean = demean(x)\n",
    "#np.mean(x_demean[:,0])\n",
    "#np.mean(x_demean[:,1])\n",
    "\n",
    "def f(w,x):\n",
    "    return np.sum((x.dot(w))**2)/len(x)\n",
    "def df_math(w,x):\n",
    "    return x.T.dot(x.dot(w))*2./len(x)\n",
    "def df_debug(w,x,epsilon=0.0001):\n",
    "    res = np.empty(len(w))\n",
    "    for i in range(len(w)):\n",
    "        w_1 = w.copy()#对某一个特征的偏导数\n",
    "        w_1[i] += epsilon\n",
    "        w_2 = w.copy()\n",
    "        w_2[i] -= epsilon\n",
    "        res[i] = (f(w_1,x) - f(w_2,x))/(2*epsilon)\n",
    "    return res #模拟的导数值\n",
    "\n",
    "def direction(w):#让一个向量膜为1，即为单位向量\n",
    "    return w / np.linalg.norm(w)#向量除以其模\n",
    "\n",
    "def gradient_ascent(df, x, initial_w, eta, n_iters = 1e4, epsilon=1e-8):\n",
    "    \n",
    "    w = direction(initial_w) \n",
    "    cur_iter = 0\n",
    "\n",
    "    while cur_iter < n_iters:\n",
    "        gradient = df(w, x)\n",
    "        last_w = w\n",
    "        w = w + eta * gradient\n",
    "        w = direction(w) # 注意1：每次求一个单位方向\n",
    "        if(abs(f(w, x) - f(last_w, x)) < epsilon):\n",
    "            break\n",
    "        cur_iter += 1\n",
    "    return w\n",
    "\n",
    "initial_w = np.random.random((x.shape[1]))#初始值不能全为0，对于目标函数，w=0向量对应最小极值点，梯度也为0\n",
    "eta = 0.001\n",
    "\n",
    "#不能使用StandardScaler 不能进行标准化，因为不是线性变化\n",
    "\n",
    "w1=gradient_ascent(df_debug,x_demean,initial_w,eta)\n",
    "print(g1)\n",
    "w2=gradient_ascent(df_math,x_demean,initial_w,eta)\n",
    "print(g2)\n",
    "plt.scatter(x_demean[:,0],x_demean[:,1])\n",
    "\n",
    "\n",
    "plt.plot([-w2[0]*50,w2[0]*50],[-w2[1]*50,w2[1]*50],color='r')\n",
    "plt.show()"
   ]
  },
  {
   "cell_type": "code",
   "execution_count": null,
   "metadata": {},
   "outputs": [],
   "source": []
  },
  {
   "cell_type": "code",
   "execution_count": null,
   "metadata": {},
   "outputs": [],
   "source": []
  }
 ],
 "metadata": {
  "kernelspec": {
   "display_name": "Python 3",
   "language": "python",
   "name": "python3"
  },
  "language_info": {
   "codemirror_mode": {
    "name": "ipython",
    "version": 3
   },
   "file_extension": ".py",
   "mimetype": "text/x-python",
   "name": "python",
   "nbconvert_exporter": "python",
   "pygments_lexer": "ipython3",
   "version": "3.6.5"
  }
 },
 "nbformat": 4,
 "nbformat_minor": 2
}
