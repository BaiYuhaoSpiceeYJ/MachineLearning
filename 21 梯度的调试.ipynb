{
 "cells": [
  {
   "cell_type": "code",
   "execution_count": 13,
   "metadata": {},
   "outputs": [
    {
     "name": "stdout",
     "output_type": "stream",
     "text": [
      "[ 1.1251597   2.05312521  2.91522497  4.11895968  5.05002117  5.90494046\n",
      "  6.97383745  8.00088367  8.86213468  9.98608331 10.90529198]\n"
     ]
    }
   ],
   "source": [
    "import numpy as np\n",
    "import matplotlib.pyplot as plt\n",
    "\n",
    "np.random.seed(666)\n",
    "x = np.random.random(size=(1000,10))#1000*10的的样本\n",
    "true_theta = np.arange(1,12,dtype=float)#1-11，11个数，包括截距一共11个特征,y = 1 + 2*x_1 + 3*x_2 + 4*x_3 + ... + 11*x_10\n",
    "x_b = np.hstack([np.ones((len(x),1)),x])\n",
    "y = x_b.dot(true_theta)+np.random.normal(size=1000)\n",
    "\n",
    "def J(theta,x_b,y):#损失函数\n",
    "    try:\n",
    "        return np.sum((y - x_b.dot(theta))**2)/len(x_b)\n",
    "    except:\n",
    "        return float('inf')\n",
    "\n",
    "def dJ_math(theta, X_b, y):\n",
    "    return x_b.T.dot(x_b.dot(theta)-y_train)*2./len(x_b)\n",
    "\n",
    "def dJ_debug(theta,x_b,y,epsilon=0.01):\n",
    "    res = np.empty(len(theta))\n",
    "    for i in range(len(theta)):\n",
    "        theta_1 = theta.copy()#对某一个特征的偏导数\n",
    "        theta_1[i] += epsilon\n",
    "        theta_2 = theta.copy()\n",
    "        theta_2[i] -= epsilon\n",
    "        res[i] = (J(theta_1,x_b,y) - J(theta_2,x_b,y))/(2*epsilon)\n",
    "    return res #模拟的导数值\n",
    "\n",
    "def gradient_descent(dJ,x_b,y,initial_theta,eta,n_iters = 10000,epsilon=1e-8):\n",
    "    theta = initial_theta\n",
    "    i_iter = 0\n",
    "    while i_iter<n_iters:\n",
    "        gradiant = dJ(theta,x_b,y)\n",
    "        last_theta = theta\n",
    "        theta =theta - eta * gradiant\n",
    "        if (abs(J(theta,x_b,y) - J(last_theta,x_b,y)) < epsilon):\n",
    "            break\n",
    "        i_iter+=1\n",
    "    return theta\n",
    "\n",
    "initial_theta = np.zeros(x_b.shape[1])\n",
    "eta = 0.01\n",
    "theta = gradient_descent(dJ_debug,x_b,y,initial_theta,eta)\n",
    "print(theta)"
   ]
  },
  {
   "cell_type": "code",
   "execution_count": null,
   "metadata": {},
   "outputs": [],
   "source": []
  }
 ],
 "metadata": {
  "kernelspec": {
   "display_name": "Python 3",
   "language": "python",
   "name": "python3"
  },
  "language_info": {
   "codemirror_mode": {
    "name": "ipython",
    "version": 3
   },
   "file_extension": ".py",
   "mimetype": "text/x-python",
   "name": "python",
   "nbconvert_exporter": "python",
   "pygments_lexer": "ipython3",
   "version": "3.6.5"
  }
 },
 "nbformat": 4,
 "nbformat_minor": 2
}
