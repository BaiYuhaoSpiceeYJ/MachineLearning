{
 "cells": [
  {
   "cell_type": "code",
   "execution_count": 4,
   "metadata": {},
   "outputs": [
    {
     "name": "stdout",
     "output_type": "stream",
     "text": [
      "Calinski-Harabasz Score 14908.932502611722\n",
      "Calinski-Harabasz Score with gamma= 0.01 n_clusters= 3 score: 1979.7709609161868\n",
      "Calinski-Harabasz Score with gamma= 0.01 n_clusters= 4 score: 3154.0184121901602\n",
      "Calinski-Harabasz Score with gamma= 0.01 n_clusters= 5 score: 23410.638949991386\n",
      "Calinski-Harabasz Score with gamma= 0.01 n_clusters= 6 score: 19303.734087657893\n",
      "Calinski-Harabasz Score with gamma= 0.1 n_clusters= 3 score: 1979.7709609161868\n",
      "Calinski-Harabasz Score with gamma= 0.1 n_clusters= 4 score: 3154.0184121901607\n",
      "Calinski-Harabasz Score with gamma= 0.1 n_clusters= 5 score: 23410.638949991386\n",
      "Calinski-Harabasz Score with gamma= 0.1 n_clusters= 6 score: 19427.96189435911\n",
      "Calinski-Harabasz Score with gamma= 1 n_clusters= 3 score: 1491.0741205059262\n",
      "Calinski-Harabasz Score with gamma= 1 n_clusters= 4 score: 131.22445023197542\n",
      "Calinski-Harabasz Score with gamma= 1 n_clusters= 5 score: 23410.638949991386\n",
      "Calinski-Harabasz Score with gamma= 1 n_clusters= 6 score: 19384.96577243997\n",
      "Calinski-Harabasz Score with gamma= 10 n_clusters= 3 score: 41.950682271267375\n"
     ]
    },
    {
     "name": "stderr",
     "output_type": "stream",
     "text": [
      "E:\\Anaconda3\\lib\\site-packages\\sklearn\\manifold\\spectral_embedding_.py:234: UserWarning: Graph is not fully connected, spectral embedding may not work as expected.\n",
      "  warnings.warn(\"Graph is not fully connected, spectral embedding\"\n"
     ]
    },
    {
     "name": "stdout",
     "output_type": "stream",
     "text": [
      "Calinski-Harabasz Score with gamma= 10 n_clusters= 4 score: 41.38460245374459\n",
      "Calinski-Harabasz Score with gamma= 10 n_clusters= 5 score: 29.621783189960265\n",
      "Calinski-Harabasz Score with gamma= 10 n_clusters= 6 score: 35.59062715648855\n"
     ]
    }
   ],
   "source": [
    "import numpy as np\n",
    "from sklearn import datasets\n",
    "X, y = datasets.make_blobs(n_samples=500, n_features=6, centers=5, cluster_std=[0.4, 0.3, 0.4, 0.3, 0.4], random_state=11)\n",
    "\n",
    "from sklearn.cluster import SpectralClustering\n",
    "y_pred = SpectralClustering().fit_predict(X)\n",
    "from sklearn import metrics\n",
    "print(\"Calinski-Harabasz Score\",metrics.calinski_harabaz_score(X, y_pred))\n",
    "\n",
    "for index, gamma in enumerate((0.01,0.1,1,10)):\n",
    "    for index, k in enumerate((3,4,5,6)):\n",
    "        y_pred = SpectralClustering(n_clusters=k, gamma=gamma).fit_predict(X)\n",
    "        print (\"Calinski-Harabasz Score with gamma=\", gamma, \"n_clusters=\", k,\"score:\", metrics.calinski_harabaz_score(X, y_pred))"
   ]
  },
  {
   "cell_type": "code",
   "execution_count": null,
   "metadata": {},
   "outputs": [],
   "source": []
  },
  {
   "cell_type": "code",
   "execution_count": null,
   "metadata": {},
   "outputs": [],
   "source": []
  }
 ],
 "metadata": {
  "kernelspec": {
   "display_name": "Python 3",
   "language": "python",
   "name": "python3"
  },
  "language_info": {
   "codemirror_mode": {
    "name": "ipython",
    "version": 3
   },
   "file_extension": ".py",
   "mimetype": "text/x-python",
   "name": "python",
   "nbconvert_exporter": "python",
   "pygments_lexer": "ipython3",
   "version": "3.6.5"
  }
 },
 "nbformat": 4,
 "nbformat_minor": 2
}
