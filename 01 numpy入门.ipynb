{
 "cells": [
  {
   "cell_type": "code",
   "execution_count": 2,
   "metadata": {},
   "outputs": [
    {
     "name": "stdout",
     "output_type": "stream",
     "text": [
      "[0 1 2 3 4 5 6 7 8 9]\n",
      "[0. 1. 2. 3. 4. 5. 6. 7. 8. 9.]\n",
      "[1. 2. 3.]\n",
      "[[1]\n",
      " [2]]\n",
      "[1. 2. 3.]\n"
     ]
    },
    {
     "data": {
      "text/plain": [
       "array([4, 8, 7, 7, 5, 5, 0, 7, 3, 2])"
      ]
     },
     "execution_count": 2,
     "metadata": {},
     "output_type": "execute_result"
    }
   ],
   "source": [
    "import numpy as np\n",
    "import cv2\n",
    "arr1 = np.array([i for i in range(10)])\n",
    "print(arr1)\n",
    "arr2 = np.array(arr1,dtype = 'float32')\n",
    "print(arr2)\n",
    "arr3 = np.array([1,2,3],np.float32)\n",
    "print(arr3)\n",
    "arr4 = np.uint8([[1],[2]])\n",
    "print(arr4)\n",
    "arr5 = np.array([1,2,3.0])\n",
    "print(arr5)\n",
    "\n",
    "np.zeros((1,5,3),dtype=int)\n",
    "np.full((2,2),2.0)\n",
    "np.random.randint(0,10,10)"
   ]
  },
  {
   "cell_type": "code",
   "execution_count": 4,
   "metadata": {},
   "outputs": [
    {
     "name": "stdout",
     "output_type": "stream",
     "text": [
      "35\n"
     ]
    }
   ],
   "source": [
    "x = np.arange(10).reshape(2,-1)\n",
    "x.ndim\n",
    "x.shape\n",
    "#x.reshape(2,5)\n",
    "a=np.sum(x[1])\n",
    "print(a)"
   ]
  },
  {
   "cell_type": "code",
   "execution_count": 31,
   "metadata": {},
   "outputs": [
    {
     "data": {
      "text/plain": [
       "array([3, 4, 5, 6])"
      ]
     },
     "execution_count": 31,
     "metadata": {},
     "output_type": "execute_result"
    }
   ],
   "source": [
    "x = np.arange(10)\n",
    "y1,y2,y3 = np.split(x,[3,7])\n",
    "y2"
   ]
  },
  {
   "cell_type": "code",
   "execution_count": null,
   "metadata": {},
   "outputs": [],
   "source": []
  }
 ],
 "metadata": {
  "kernelspec": {
   "display_name": "Python 3",
   "language": "python",
   "name": "python3"
  },
  "language_info": {
   "codemirror_mode": {
    "name": "ipython",
    "version": 3
   },
   "file_extension": ".py",
   "mimetype": "text/x-python",
   "name": "python",
   "nbconvert_exporter": "python",
   "pygments_lexer": "ipython3",
   "version": "3.6.5"
  }
 },
 "nbformat": 4,
 "nbformat_minor": 2
}
