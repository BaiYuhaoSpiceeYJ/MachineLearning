{
 "cells": [
  {
   "cell_type": "code",
   "execution_count": 2,
   "metadata": {},
   "outputs": [
    {
     "data": {
      "image/png": "[encoded data removed]",
      "text/plain": [
       "<Figure size 432x288 with 1 Axes>"
      ]
     },
     "metadata": {},
     "output_type": "display_data"
    },
    {
     "name": "stdout",
     "output_type": "stream",
     "text": [
      "[4.02438849 5.00459096]\n"
     ]
    }
   ],
   "source": [
    "import numpy as np\n",
    "import matplotlib.pyplot as plt\n",
    "\n",
    "np.random.seed(666)    \n",
    "x = 2 * np.random.random(size=100)\n",
    "y = x*5 + 4 +np.random.normal(size=100)\n",
    "x = x.reshape(-1,1)\n",
    "plt.scatter(x,y)\n",
    "plt.show()\n",
    "\n",
    "def J(theta,x_b,y):#损失函数\n",
    "    try:\n",
    "        return np.sum((y - x_b.dot(theta))**2)/len(x_b)\n",
    "    except:\n",
    "        return float('inf')\n",
    "    \n",
    "def dJ(theta,x_b,y):#导数矩阵\n",
    "    res = np.empty(len(theta))\n",
    "    res[0] = np.sum(x_b.dot(theta) - y)\n",
    "    for i in range(1,len(theta)):\n",
    "        res[i] = (x_b.dot(theta) - y).dot(x_b[:,i])\n",
    "    return res*2/len(x_b)\n",
    "\n",
    "def gradient_descent(x_b,y,initial_theta,eta,n_iters = 100000,epsilon=1e-8):\n",
    "    theta = initial_theta\n",
    "    i_iter = 0\n",
    "    while i_iter<n_iters:\n",
    "        gradiant = dJ(theta,x_b,y)\n",
    "        last_theta = theta\n",
    "        theta = theta - eta * gradiant\n",
    "        if (abs(J(theta,x_b,y) - J(last_theta,x_b,y)) < epsilon):\n",
    "            break\n",
    "        i_iter += 1\n",
    "    return theta\n",
    "    \n",
    "\n",
    "x_b = np.hstack([np.ones((len(x),1)),x])\n",
    "initial_theta = np.zeros(x_b.shape[1])\n",
    "eta = 0.1\n",
    "\n",
    "theta = gradient_descent(x_b,y,initial_theta,eta)\n",
    "print(theta)"
   ]
  },
  {
   "cell_type": "code",
   "execution_count": 3,
   "metadata": {},
   "outputs": [
    {
     "name": "stdout",
     "output_type": "stream",
     "text": [
      "[4.9421457]\n",
      "3.9600416237011706\n"
     ]
    }
   ],
   "source": [
    "import numpy as np\n",
    "import matplotlib.pyplot as plt\n",
    "\n",
    "import sys#引用不在一个文件夹中的.py文件\n",
    "sys.path.append(r'C:\\Users\\TH\\Desktop\\ML\\Pycharm\\SimpleLinearRegression')\n",
    "from LinearRegression import LinearRegression\n",
    "\n",
    "np.random.seed(666) \n",
    "x = 2 * np.random.random(size=100)\n",
    "y = x*5 + 4 +np.random.normal(size=100)\n",
    "x = x.reshape(-1,1)\n",
    "\n",
    "lin_reg = LinearRegression()\n",
    "lin_reg.fit_sgd(x,y)\n",
    "print(lin_reg.coef_)\n",
    "print(lin_reg.intercept_)"
   ]
  },
  {
   "cell_type": "code",
   "execution_count": 1,
   "metadata": {},
   "outputs": [
    {
     "name": "stdout",
     "output_type": "stream",
     "text": [
      "[4.99905007]\n",
      "4.019872853894036\n"
     ]
    }
   ],
   "source": [
    "#随机梯度下降法\n",
    "import numpy as np\n",
    "import matplotlib.pyplot as plt\n",
    "\n",
    "import sys#引用不在一个文件夹中的.py文件\n",
    "sys.path.append(r'C:\\Users\\TH\\Desktop\\ML\\Pycharm\\SimpleLinearRegression')\n",
    "from LinearRegression import LinearRegression\n",
    "\n",
    "np.random.seed(666) \n",
    "x = 2 * np.random.random(size=100)\n",
    "y = x*5 + 4 +np.random.normal(size=100)\n",
    "x = x.reshape(-1,1)\n",
    "\n",
    "lin_reg = LinearRegression()\n",
    "lin_reg.fit_sgd(x,y)\n",
    "print(lin_reg.coef_)\n",
    "print(lin_reg.intercept_)"
   ]
  },
  {
   "cell_type": "code",
   "execution_count": null,
   "metadata": {},
   "outputs": [],
   "source": []
  }
 ],
 "metadata": {
  "kernelspec": {
   "display_name": "Python 3",
   "language": "python",
   "name": "python3"
  },
  "language_info": {
   "codemirror_mode": {
    "name": "ipython",
    "version": 3
   },
   "file_extension": ".py",
   "mimetype": "text/x-python",
   "name": "python",
   "nbconvert_exporter": "python",
   "pygments_lexer": "ipython3",
   "version": "3.6.5"
  }
 },
 "nbformat": 4,
 "nbformat_minor": 2
}
