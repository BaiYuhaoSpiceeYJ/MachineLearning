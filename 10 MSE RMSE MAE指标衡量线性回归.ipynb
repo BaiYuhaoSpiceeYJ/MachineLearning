{
 "cells": [
  {
   "cell_type": "code",
   "execution_count": 10,
   "metadata": {
    "scrolled": false
   },
   "outputs": [
    {
     "name": "stdout",
     "output_type": "stream",
     "text": [
      "Boston House Prices dataset\n",
      "===========================\n",
      "\n",
      "Notes\n",
      "------\n",
      "Data Set Characteristics:  \n",
      "\n",
      "    :Number of Instances: 506 \n",
      "\n",
      "    :Number of Attributes: 13 numeric/categorical predictive\n",
      "    \n",
      "    :Median Value (attribute 14) is usually the target\n",
      "\n",
      "    :Attribute Information (in order):\n",
      "        - CRIM     per capita crime rate by town\n",
      "        - ZN       proportion of residential land zoned for lots over 25,000 sq.ft.\n",
      "        - INDUS    proportion of non-retail business acres per town\n",
      "        - CHAS     Charles River dummy variable (= 1 if tract bounds river; 0 otherwise)\n",
      "        - NOX      nitric oxides concentration (parts per 10 million)\n",
      "        - RM       average number of rooms per dwelling\n",
      "        - AGE      proportion of owner-occupied units built prior to 1940\n",
      "        - DIS      weighted distances to five Boston employment centres\n",
      "        - RAD      index of accessibility to radial highways\n",
      "        - TAX      full-value property-tax rate per $10,000\n",
      "        - PTRATIO  pupil-teacher ratio by town\n",
      "        - B        1000(Bk - 0.63)^2 where Bk is the proportion of blacks by town\n",
      "        - LSTAT    % lower status of the population\n",
      "        - MEDV     Median value of owner-occupied homes in $1000's\n",
      "\n",
      "    :Missing Attribute Values: None\n",
      "\n",
      "    :Creator: Harrison, D. and Rubinfeld, D.L.\n",
      "\n",
      "This is a copy of UCI ML housing dataset.\n",
      "http://archive.ics.uci.edu/ml/datasets/Housing\n",
      "\n",
      "\n",
      "This dataset was taken from the StatLib library which is maintained at Carnegie Mellon University.\n",
      "\n",
      "The Boston house-price data of Harrison, D. and Rubinfeld, D.L. 'Hedonic\n",
      "prices and the demand for clean air', J. Environ. Economics & Management,\n",
      "vol.5, 81-102, 1978.   Used in Belsley, Kuh & Welsch, 'Regression diagnostics\n",
      "...', Wiley, 1980.   N.B. Various transformations are used in the table on\n",
      "pages 244-261 of the latter.\n",
      "\n",
      "The Boston house-price data has been used in many machine learning papers that address regression\n",
      "problems.   \n",
      "     \n",
      "**References**\n",
      "\n",
      "   - Belsley, Kuh & Welsch, 'Regression diagnostics: Identifying Influential Data and Sources of Collinearity', Wiley, 1980. 244-261.\n",
      "   - Quinlan,R. (1993). Combining Instance-Based and Model-Based Learning. In Proceedings on the Tenth International Conference of Machine Learning, 236-243, University of Massachusetts, Amherst. Morgan Kaufmann.\n",
      "   - many more! (see http://archive.ics.uci.edu/ml/datasets/Housing)\n",
      "\n",
      "y= 7.833972917686114 x+ -27.252755266879902\n"
     ]
    },
    {
     "data": {
      "image/png": "[encoded data removed]",
      "text/plain": [
       "<Figure size 432x288 with 1 Axes>"
      ]
     },
     "metadata": {},
     "output_type": "display_data"
    },
    {
     "name": "stdout",
     "output_type": "stream",
     "text": [
      "MSE= 28.215949368640796\n",
      "RMSE= 5.311868726600912\n",
      "MAE= 3.9489046062737843\n"
     ]
    }
   ],
   "source": [
    "import numpy as np\n",
    "import matplotlib.pyplot as plt\n",
    "from sklearn import datasets\n",
    "\n",
    "boston = datasets.load_boston()#房价数据集,506个对象，每个有13个特征\n",
    "print(boston.DESCR)\n",
    "#boston.feature_names\n",
    "x = boston.data[:,5]#只使用房间数量这个特征\n",
    "y = boston.target#房价\n",
    "#plt.scatter(x,y)\n",
    "#plt.show()\n",
    "\n",
    "#房价大于等于50万一律用50万，可能在调查问卷时选项问题，要删除这些点\n",
    "x = x[y<50.]\n",
    "y = y[y<50.]\n",
    "plt.scatter(x,y)\n",
    "\n",
    "#数据分类\n",
    "from sklearn.model_selection import train_test_split\n",
    "x_train,x_test,y_train,y_test = train_test_split(x,y,random_state=666)\n",
    "\n",
    "#计算线性回归值\n",
    "import sys#引用不在一个文件夹中的.py文件\n",
    "sys.path.append(r'C:\\Users\\TH\\Desktop\\ML\\Pycharm\\SimpleLinearRegression')\n",
    "from SimpleLinearRegression2 import SimpleLinearRegression_2\n",
    "reg = SimpleLinearRegression_2()\n",
    "reg.fit(x_train,y_train)\n",
    "print('y=',reg.a_,'x+',reg.b_)\n",
    "\n",
    "#输出结果并预测\n",
    "\n",
    "plt.plot(x_train,reg.predict(x_train),color='r')\n",
    "plt.show()\n",
    "y_predict = reg.predict(x_test)\n",
    "\n",
    "\n",
    "#MSE\n",
    "MSE = np.sum((y_predict-y_test)**2)/len(y_test)\n",
    "print(\"MSE=\",MSE)\n",
    "\n",
    "#rmse\n",
    "from math import sqrt\n",
    "RMSE = sqrt(MSE)\n",
    "print(\"RMSE=\",RMSE)\n",
    "\n",
    "#MAE\n",
    "MAE = np.sum(np.absolute(y_predict-y_test))/len(y_test)\n",
    "print(\"MAE=\",MAE)"
   ]
  },
  {
   "cell_type": "code",
   "execution_count": 8,
   "metadata": {},
   "outputs": [
    {
     "name": "stdout",
     "output_type": "stream",
     "text": [
      "MSE= 28.215949368640796\n",
      "RMSE= 5.311868726600912\n",
      "MAE= 3.9489046062737843\n"
     ]
    }
   ],
   "source": [
    "#自己写的函数\n",
    "import sys#引用不在一个文件夹中的.py文件\n",
    "sys.path.append(r'C:\\Users\\TH\\Desktop\\ML\\Pycharm\\SimpleLinearRegression')\n",
    "from metrics import MSE\n",
    "from metrics import MAE\n",
    "from metrics import RMSE\n",
    "\n",
    "mae = MAE(y_test,y_predict)\n",
    "mse = MSE(y_test,y_predict)\n",
    "rmse = RMSE(y_test,y_predict)\n",
    "print(\"MSE=\",mse)\n",
    "print(\"RMSE=\",rmse)\n",
    "print(\"MAE=\",mae)"
   ]
  },
  {
   "cell_type": "code",
   "execution_count": 9,
   "metadata": {},
   "outputs": [
    {
     "name": "stdout",
     "output_type": "stream",
     "text": [
      "MSE= 28.215949368640796\n",
      "MAE= 3.9489046062737843\n"
     ]
    }
   ],
   "source": [
    "#scikit_learn中的MSE MAE\n",
    "from sklearn.metrics import mean_squared_error\n",
    "from sklearn.metrics import mean_absolute_error#无RMSE，需手动开根\n",
    "\n",
    "MAE = mean_absolute_error(y_test,y_predict)\n",
    "MSE = mean_squared_error(y_test,y_predict)\n",
    "print(\"MSE=\",mse)\n",
    "\n",
    "print(\"MAE=\",mae)"
   ]
  },
  {
   "cell_type": "code",
   "execution_count": null,
   "metadata": {},
   "outputs": [],
   "source": []
  }
 ],
 "metadata": {
  "kernelspec": {
   "display_name": "Python 3",
   "language": "python",
   "name": "python3"
  },
  "language_info": {
   "codemirror_mode": {
    "name": "ipython",
    "version": 3
   },
   "file_extension": ".py",
   "mimetype": "text/x-python",
   "name": "python",
   "nbconvert_exporter": "python",
   "pygments_lexer": "ipython3",
   "version": "3.6.5"
  }
 },
 "nbformat": 4,
 "nbformat_minor": 2
}
