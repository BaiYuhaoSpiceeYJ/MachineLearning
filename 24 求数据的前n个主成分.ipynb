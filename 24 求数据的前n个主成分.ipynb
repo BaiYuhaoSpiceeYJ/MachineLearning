{
 "cells": [
  {
   "cell_type": "code",
   "execution_count": 13,
   "metadata": {},
   "outputs": [
    {
     "name": "stdout",
     "output_type": "stream",
     "text": [
      "[-0.63192313  0.77503107]\n"
     ]
    },
    {
     "data": {
      "image/png": "[encoded data removed]",
      "text/plain": [
       "<Figure size 432x288 with 1 Axes>"
      ]
     },
     "metadata": {},
     "output_type": "display_data"
    },
    {
     "name": "stdout",
     "output_type": "stream",
     "text": [
      "4.16145850457017e-06\n"
     ]
    }
   ],
   "source": [
    "import numpy as np\n",
    "import matplotlib.pyplot as plt\n",
    "\n",
    "x = np.empty((100,2))\n",
    "np.random.seed(666)\n",
    "x[:,0] = np.random.uniform(0.,100.,size=100)\n",
    "x[:,1] = 0.75 * x[:,0] + 3. + np.random.normal(0, 10., size = 100)\n",
    "\n",
    "def demean(x):#均值归零\n",
    "    return x - np.mean(x,axis=0)#在行上求每一列的均值，并做减法,向量化\n",
    "\n",
    "x_demean = demean(x)\n",
    "\n",
    "def f(w,x):#效用函数\n",
    "    return np.sum((x.dot(w))**2)/len(x)\n",
    "def df(w,x):#效用函数的梯度函数\n",
    "    return x.T.dot(x.dot(w))*2./len(x)\n",
    "\n",
    "def direction(w):#让一个向量膜为1，即为单位向量\n",
    "    return w / np.linalg.norm(w)#向量除以其模\n",
    "\n",
    "def first_component(df, x, initial_w, eta, n_iters = 1e4, epsilon=1e-8):\n",
    "    \n",
    "    w = direction(initial_w) \n",
    "    cur_iter = 0\n",
    "\n",
    "    while cur_iter < n_iters:\n",
    "        gradient = df(w, x)\n",
    "        last_w = w\n",
    "        w = w + eta * gradient\n",
    "        w = direction(w) # 注意1：每次求一个单位方向\n",
    "        if(abs(f(w, x) - f(last_w, x)) < epsilon):\n",
    "            break\n",
    "        cur_iter += 1\n",
    "    return w\n",
    "\n",
    "initial_w = np.random.random((x.shape[1]))#初始值不能全为0，对于目标函数，w=0向量对应最小极值点，梯度也为0\n",
    "eta = 0.01\n",
    "w = first_component(df,x,initial_w,eta)\n",
    "\n",
    "#求第二主成分，去掉第一主成分\n",
    "x2 = np.empty(x.shape)\n",
    "for i in range(len(x)):\n",
    "    x2[i] = x[i] - x[i].dot(w)*w#x[i].dot(w)*w为x project，原向量与其相减即为去掉第一主成分以后的向量x2[i]\n",
    "#向量化方法\n",
    "#x2 = x-x.dot(w).reshape(-1,1)*w\n",
    "    \n",
    "\n",
    "plt.scatter(x2[:,0],x2[:,1])\n",
    "\n",
    "w2 = first_component(df,x2,initial_w,eta)\n",
    "print(w2)\n",
    "plt.plot([-w[0]*50,w[0]*50],[-w[1]*50,w[1]*50],color='r')\n",
    "plt.plot([-w2[0]*50,w2[0]*50],[-w2[1]*50,w2[1]*50],color='r')\n",
    "plt.show()\n",
    "\n",
    "#验证垂直\n",
    "print(w.dot(w2)) #=0"
   ]
  },
  {
   "cell_type": "code",
   "execution_count": 17,
   "metadata": {},
   "outputs": [
    {
     "data": {
      "text/plain": [
       "[array([0.77660918, 0.62998269]), array([ 0.62998638, -0.77660618])]"
      ]
     },
     "execution_count": 17,
     "metadata": {},
     "output_type": "execute_result"
    }
   ],
   "source": [
    "def first_n_components(n,x,eta=0.01,n_iters=1e4,epsilon=1e-8):\n",
    "    x_pca = x.copy()\n",
    "    x_pca = demean(x_pca)\n",
    "    res = []\n",
    "    for i in range(n):\n",
    "        initial_w = np.random.random((x.shape[1]))\n",
    "        w = first_component(df,x_pca,initial_w,eta)\n",
    "        res.append(w)\n",
    "        x_pca = x_pca-x_pca.dot(w).reshape(-1,1)*w \n",
    "    return res\n",
    "\n",
    "first_n_components(2,x)\n",
    "        "
   ]
  },
  {
   "cell_type": "code",
   "execution_count": null,
   "metadata": {},
   "outputs": [],
   "source": []
  }
 ],
 "metadata": {
  "kernelspec": {
   "display_name": "Python 3",
   "language": "python",
   "name": "python3"
  },
  "language_info": {
   "codemirror_mode": {
    "name": "ipython",
    "version": 3
   },
   "file_extension": ".py",
   "mimetype": "text/x-python",
   "name": "python",
   "nbconvert_exporter": "python",
   "pygments_lexer": "ipython3",
   "version": "3.6.5"
  }
 },
 "nbformat": 4,
 "nbformat_minor": 2
}
