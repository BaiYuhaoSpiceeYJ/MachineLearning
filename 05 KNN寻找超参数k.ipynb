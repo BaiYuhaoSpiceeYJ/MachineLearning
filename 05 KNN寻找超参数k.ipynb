{
 "cells": [
  {
   "cell_type": "code",
   "execution_count": 10,
   "metadata": {},
   "outputs": [
    {
     "name": "stdout",
     "output_type": "stream",
     "text": [
      "k= 1 score= 98.05555555555546 %\n",
      "k= 2 score= 98.05555555555546 %\n",
      "k= 3 score= 98.61111111111131 %\n",
      "k= 4 score= 98.3333333333334 %\n",
      "k= 5 score= 98.61111111111131 %\n",
      "k= 6 score= 98.3333333333334 %\n",
      "k= 7 score= 98.3333333333334 %\n",
      "k= 8 score= 98.3333333333334 %\n",
      "k= 9 score= 98.05555555555546 %\n",
      "besk_k= 3\n"
     ]
    }
   ],
   "source": [
    "import numpy as np\n",
    "from sklearn import datasets\n",
    "digits = datasets.load_digits()\n",
    "x = digits.data\n",
    "y = digits.target\n",
    "\n",
    "from sklearn.model_selection import train_test_split\n",
    "x_train,x_test,y_train,y_test = train_test_split(x,y,test_size=0.2)\n",
    "\n",
    "from sklearn.neighbors import KNeighborsClassifier\n",
    "knn_clf = KNeighborsClassifier(n_neighbors=6)\n",
    "knn_clf.fit(x_train,y_train)\n",
    "knn_clf.score(x_test,y_test)\n",
    "\n",
    "#寻找k\n",
    "best_score = 0.0\n",
    "best_k = -1\n",
    "for k in range(1,10):\n",
    "    score = 0\n",
    "    for i in range (0,100):\n",
    "        knn_clf = KNeighborsClassifier(n_neighbors=k)\n",
    "        knn_clf.fit(x_train,y_train)\n",
    "        score+=knn_clf.score(x_test,y_test)\n",
    "    score/=100\n",
    "    print('k=',k,'score=',score*100,'%')\n",
    "    if score>best_score:\n",
    "        best_k=k\n",
    "        best_score=score\n",
    "print('besk_k=',best_k)\n",
    "    \n",
    "    "
   ]
  },
  {
   "cell_type": "code",
   "execution_count": 2,
   "metadata": {},
   "outputs": [
    {
     "name": "stdout",
     "output_type": "stream",
     "text": [
      "weight=distance k= 1 score= 97.77777777777754 %\n",
      "weight=distance k= 2 score= 97.77777777777754 %\n",
      "weight=distance k= 3 score= 98.05555555555546 %\n",
      "weight=distance k= 4 score= 97.77777777777754 %\n",
      "weight=distance k= 5 score= 98.05555555555546 %\n",
      "weight=distance k= 6 score= 98.05555555555546 %\n",
      "weight=distance k= 7 score= 97.77777777777754 %\n",
      "weight=distance k= 8 score= 98.05555555555546 %\n",
      "weight=distance k= 9 score= 98.05555555555546 %\n",
      "besk_k= 3\n"
     ]
    }
   ],
   "source": [
    "#考虑距离\n",
    "import numpy as np\n",
    "from sklearn import datasets\n",
    "digits = datasets.load_digits()\n",
    "x = digits.data\n",
    "y = digits.target\n",
    "\n",
    "from sklearn.model_selection import train_test_split\n",
    "x_train,x_test,y_train,y_test = train_test_split(x,y,test_size=0.2)\n",
    "\n",
    "from sklearn.neighbors import KNeighborsClassifier\n",
    "knn_clf = KNeighborsClassifier(n_neighbors=6,weights = 'distance')\n",
    "knn_clf.fit(x_train,y_train)\n",
    "knn_clf.score(x_test,y_test)\n",
    "\n",
    "#寻找weights\n",
    "best_score = 0.0\n",
    "best_k = -1\n",
    "for k in range(1,10):\n",
    "    score = 0\n",
    "    for i in range (0,100):\n",
    "        knn_clf = KNeighborsClassifier(n_neighbors=k,weights = 'distance')\n",
    "        knn_clf.fit(x_train,y_train)\n",
    "        score+=knn_clf.score(x_test,y_test)\n",
    "    score/=100\n",
    "    print('weight=distance k=',k,'score=',score*100,'%')\n",
    "    if score>best_score:\n",
    "        best_k=k\n",
    "        best_score=score\n",
    "print('besk_k=',best_k)"
   ]
  },
  {
   "cell_type": "code",
   "execution_count": 13,
   "metadata": {},
   "outputs": [
    {
     "name": "stdout",
     "output_type": "stream",
     "text": [
      "weight=distance p= 1 score= 97.77777777777771 %\n",
      "weight=distance p= 2 score= 98.36419753086417 %\n",
      "weight=distance p= 3 score= 98.54938271604942 %\n",
      "weight=distance p= 4 score= 98.33333333333341 %\n",
      "weight=distance p= 5 score= 98.27160493827165 %\n",
      "besk_p= 3\n"
     ]
    }
   ],
   "source": [
    "#考虑明科夫斯基距离参数p\n",
    "import numpy as np\n",
    "from sklearn import datasets\n",
    "digits = datasets.load_digits()\n",
    "x = digits.data\n",
    "y = digits.target\n",
    "\n",
    "from sklearn.model_selection import train_test_split\n",
    "x_train,x_test,y_train,y_test = train_test_split(x,y,test_size=0.2)\n",
    "\n",
    "from sklearn.neighbors import KNeighborsClassifier\n",
    "knn_clf = KNeighborsClassifier(n_neighbors=6,weights = 'distance')\n",
    "knn_clf.fit(x_train,y_train)\n",
    "knn_clf.score(x_test,y_test)\n",
    "\n",
    "#寻找p\n",
    "best_score = 0.0\n",
    "best_k = -1\n",
    "for p in range(1,6):\n",
    "    score = 0\n",
    "    for k in range(1,10):\n",
    "        for i in range (0,5):\n",
    "            knn_clf = KNeighborsClassifier(n_neighbors=k,weights = 'distance',p=p)\n",
    "            knn_clf.fit(x_train,y_train)\n",
    "            score+=knn_clf.score(x_test,y_test)\n",
    "    score/=45\n",
    "    print('weight=distance p=',p,'score=',score*100,'%')\n",
    "    if score>best_score:\n",
    "        best_p=p\n",
    "        best_score=score\n",
    "print('besk_p=',best_p)"
   ]
  },
  {
   "cell_type": "code",
   "execution_count": 2,
   "metadata": {},
   "outputs": [
    {
     "name": "stdout",
     "output_type": "stream",
     "text": [
      "Fitting 3 folds for each of 60 candidates, totalling 180 fits\n"
     ]
    },
    {
     "name": "stderr",
     "output_type": "stream",
     "text": [
      "[Parallel(n_jobs=4)]: Done  33 tasks      | elapsed:    2.8s\n",
      "[Parallel(n_jobs=4)]: Done 154 tasks      | elapsed:   41.1s\n",
      "[Parallel(n_jobs=4)]: Done 180 out of 180 | elapsed:   53.5s finished\n"
     ]
    },
    {
     "name": "stdout",
     "output_type": "stream",
     "text": [
      "KNeighborsClassifier(algorithm='auto', leaf_size=30, metric='minkowski',\n",
      "           metric_params=None, n_jobs=1, n_neighbors=3, p=4,\n",
      "           weights='distance')\n",
      "0.988169798190675\n",
      "{'n_neighbors': 3, 'p': 4, 'weights': 'distance'}\n"
     ]
    },
    {
     "data": {
      "text/plain": [
       "0.9861111111111112"
      ]
     },
     "execution_count": 2,
     "metadata": {},
     "output_type": "execute_result"
    }
   ],
   "source": [
    "#网格搜索寻找超参数\n",
    "import numpy as np\n",
    "from sklearn import datasets\n",
    "from sklearn.model_selection import GridSearchCV\n",
    "from sklearn.neighbors import KNeighborsClassifier\n",
    "from sklearn.model_selection import train_test_split\n",
    "\n",
    "digits = datasets.load_digits()\n",
    "x = digits.data\n",
    "y = digits.target\n",
    "x_train,x_test,y_train,y_test = train_test_split(x,y,test_size=0.2)\n",
    "\n",
    "param_grid =[\n",
    "    #数组，每个元素为一个字典：要进行的每一组网格搜索，写上需要遍历的搜索的参数对应的取值范围\n",
    "    #对于字典:键对应参数名称，值为列表，对应所有可能的参数的范围\n",
    "    {\n",
    "        'weights':['uniform'],\n",
    "        'n_neighbors':[i for i in range(1,11)],\n",
    "    },\n",
    "    \n",
    "    {\n",
    "        'weights':['distance'],\n",
    "        'n_neighbors':[i for i in range(1,11)],\n",
    "        'p':[i for i in range(1,6)]\n",
    "    }\n",
    "]\n",
    "knn_clf = KNeighborsClassifier()\n",
    "grid_search = GridSearchCV(knn_clf,param_grid,n_jobs=4,verbose=2)\n",
    "                 #1.需要遍历的分类器 2.网格数组 cv：交叉验证 3：n_jobs分配几个计算机cpu核处理 4:运行时输出，越大越详细\n",
    "grid_search.fit (x_train,y_train)\n",
    "print(grid_search.best_estimator_)#返回最佳分类器对应的参数\n",
    "print(grid_search.best_score_)#返回最佳结果\n",
    "print(grid_search.best_params_)#返回最佳超参数\n",
    "\n",
    "knn_clf = grid_search.best_estimator_\n",
    "knn_clf.score(x_test,y_test)"
   ]
  },
  {
   "cell_type": "code",
   "execution_count": 22,
   "metadata": {},
   "outputs": [
    {
     "data": {
      "text/plain": [
       "0.9722222222222222"
      ]
     },
     "execution_count": 22,
     "metadata": {},
     "output_type": "execute_result"
    }
   ],
   "source": [
    "#是否归一化\n",
    "import numpy as np\n",
    "from sklearn import datasets\n",
    "digits = datasets.load_digits()\n",
    "x = digits.data\n",
    "y = digits.target\n",
    "\n",
    "from sklearn.model_selection import train_test_split\n",
    "x_train,x_test,y_train,y_test = train_test_split(x,y,test_size=0.2)\n",
    "\n",
    "from sklearn.preprocessing import StandardScaler #preprocessing预处理\n",
    "standardScaler = StandardScaler()\n",
    "standardScaler.fit(x_train)\n",
    "#print(standardScaler.mean_)#均值\n",
    "#print(standardScaler.scale_)#方差\n",
    "x_train_standard = standardScaler.transform(x_train)#对训练集归一化\n",
    "x_test_standard = standardScaler.transform(x_test)#对测试集归一化\n",
    "from sklearn.neighbors import KNeighborsClassifier\n",
    "knn_clf = KNeighborsClassifier(n_neighbors=3)\n",
    "knn_clf.fit(x_train_standard,y_train)\n",
    "knn_clf.score(x_test_standard,y_test)\n",
    "\n",
    "\n",
    "    "
   ]
  },
  {
   "cell_type": "code",
   "execution_count": null,
   "metadata": {},
   "outputs": [],
   "source": []
  },
  {
   "cell_type": "code",
   "execution_count": null,
   "metadata": {},
   "outputs": [],
   "source": []
  }
 ],
 "metadata": {
  "kernelspec": {
   "display_name": "Python 3",
   "language": "python",
   "name": "python3"
  },
  "language_info": {
   "codemirror_mode": {
    "name": "ipython",
    "version": 3
   },
   "file_extension": ".py",
   "mimetype": "text/x-python",
   "name": "python",
   "nbconvert_exporter": "python",
   "pygments_lexer": "ipython3",
   "version": "3.6.5"
  }
 },
 "nbformat": 4,
 "nbformat_minor": 2
}
